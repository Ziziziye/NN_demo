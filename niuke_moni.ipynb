{
 "cells": [
  {
   "cell_type": "code",
   "execution_count": null,
   "metadata": {},
   "outputs": [],
   "source": [
    "import sys \n",
    "for line in sys.stdin:\n",
    "    a = line.split()\n",
    "    print(int(a[0]) + int(a[1]))"
   ]
  },
  {
   "cell_type": "code",
   "execution_count": null,
   "metadata": {},
   "outputs": [],
   "source": [
    "import sys\n",
    "if __name__ == \"__main__\":\n",
    "    # 读取第一行的n\n",
    "    n = int(sys.stdin.readline().strip())\n",
    "    ans = 0\n",
    "    for i in range(n):\n",
    "        # 读取每一行\n",
    "        line = sys.stdin.readline().strip()\n",
    "        # 把每一行的数字分隔后转化成int列表\n",
    "        values = list(map(int, line.split()))\n",
    "        for v in values:\n",
    "            ans += v\n",
    "    print(ans)"
   ]
  },
  {
   "cell_type": "code",
   "execution_count": 9,
   "metadata": {},
   "outputs": [
    {
     "name": "stdout",
     "output_type": "stream",
     "text": [
      "2\n",
      "1 2\n",
      "0\n",
      "YES\n"
     ]
    }
   ],
   "source": [
    "n = int(input().strip())\n",
    "L=list(map(int, input().split()))\n",
    "\n",
    "L.sort()\n",
    "flag = 0\n",
    "for i in range(n-1):\n",
    "    r = L[i+1]%L[0]\n",
    "    if r!=0:\n",
    "        print(\"NO\")\n",
    "        flag = 1\n",
    "        break\n",
    "    else:\n",
    "        k = int(L[i+1]/L[0])\n",
    "        while(k>1):\n",
    "            print(k%2)\n",
    "            if k%2!=0:\n",
    "                print('NO')\n",
    "                flag = 1\n",
    "                break\n",
    "            k = k/2\n",
    "        if flag==1:\n",
    "            break\n",
    "if flag==0:\n",
    "    print(\"YES\")"
   ]
  },
  {
   "cell_type": "code",
   "execution_count": 27,
   "metadata": {},
   "outputs": [
    {
     "name": "stdout",
     "output_type": "stream",
     "text": [
      "3\n",
      "1 2 2\n",
      "1\n"
     ]
    }
   ],
   "source": [
    "n = int(input().strip())\n",
    "L=list(map(int, input().split()))\n",
    "if L==[]:\n",
    "    print(0)\n",
    "elif len(L)<=2:\n",
    "    print(1)\n",
    "else:\n",
    "    stack = []\n",
    "    res = 1\n",
    "    while(len(L)>1):\n",
    "        if L[0]<L[1]:\n",
    "            stack.append(0)\n",
    "        elif L[0]>L[1]:\n",
    "            stack.append(1)\n",
    "        L.pop(0)\n",
    "    if len(stack)<=1:\n",
    "        res = 1\n",
    "    else:\n",
    "        for i in range(len(stack)-1):\n",
    "            if stack[i]!=stack[i+1]:\n",
    "                res += 1\n",
    "    print(res)"
   ]
  },
  {
   "cell_type": "code",
   "execution_count": 35,
   "metadata": {},
   "outputs": [
    {
     "name": "stdout",
     "output_type": "stream",
     "text": [
      "6\n",
      "7 2 3 1 5 6\n",
      "[-5, 1, -2, 4, 1]\n",
      "[2]\n",
      "4\n",
      "3\n"
     ]
    }
   ],
   "source": [
    "def is_increase(stack):\n",
    "    de = 1\n",
    "    begin = [0]\n",
    "    count = 0\n",
    "    i = 0 \n",
    "    s = []\n",
    "    flag = 1\n",
    "    while(i<len(stack)):\n",
    "        if stack[i]>0:\n",
    "            count+=1\n",
    "        elif stack[i]<0 and de>0:\n",
    "            count+=1\n",
    "            de = 0\n",
    "        else:\n",
    "            flag = 0\n",
    "            begin.append(i)\n",
    "            s.append(count)\n",
    "        i = i+1\n",
    "    if flag == 1:\n",
    "        s.append(count)\n",
    "    print(s)\n",
    "    print(count)\n",
    "    return max(s)\n",
    "\n",
    "n = int(input())\n",
    "L=list(map(int, input().split()))\n",
    "if len(L)<=2:\n",
    "    print(len(L))\n",
    "elif len(L)==3 and L[2]-L[0]>1:\n",
    "    print(3)\n",
    "else:\n",
    "    stack = []\n",
    "    for i in range(n-1):\n",
    "        stack.append(L[i+1]-L[i])\n",
    "    print(stack)\n",
    "    print(is_increase(stack)+1)"
   ]
  },
  {
   "cell_type": "code",
   "execution_count": 5,
   "metadata": {},
   "outputs": [
    {
     "name": "stdout",
     "output_type": "stream",
     "text": [
      "6\n",
      "7 2 3 1 5 6\n",
      "[1]\n",
      "1\n",
      "[1, 2]\n",
      "[1, 2, 1]\n",
      "3\n",
      "4\n",
      "[1, 2, 1, 3]\n",
      "4\n",
      "[1, 2, 1, 3, 2]\n",
      "3\n"
     ]
    }
   ],
   "source": [
    "n = int(input())\n",
    "L=list(map(int, input().split()))\n",
    "if len(L)<=2:\n",
    "    print(len(L))\n",
    "elif len(L)==3 and L[2]-L[0]>1:\n",
    "    print(3)\n",
    "else:\n",
    "    stack = []\n",
    "    for i in range(n-1):\n",
    "        de = 1\n",
    "        count = 1\n",
    "        j = i\n",
    "        while((j<len(L)-1 and L[j+1]>L[j])or de>1):\n",
    "            count = count+1\n",
    "            if L[i+1]<=L[1]:\n",
    "                de = 0\n",
    "            j = j+1\n",
    "        stack.append(count)\n",
    "        print(stack)\n",
    "    print(max(stack))"
   ]
  },
  {
   "cell_type": "code",
   "execution_count": 3,
   "metadata": {},
   "outputs": [
    {
     "name": "stdout",
     "output_type": "stream",
     "text": [
      "24\n",
      "aaa\n"
     ]
    }
   ],
   "source": [
    "import math\n",
    "print(math.factorial(4))\n",
    "s = 'a'*3\n",
    "print(s)"
   ]
  },
  {
   "cell_type": "code",
   "execution_count": null,
   "metadata": {},
   "outputs": [],
   "source": []
  }
 ],
 "metadata": {
  "kernelspec": {
   "display_name": "Python 3",
   "language": "python",
   "name": "python3"
  },
  "language_info": {
   "codemirror_mode": {
    "name": "ipython",
    "version": 3
   },
   "file_extension": ".py",
   "mimetype": "text/x-python",
   "name": "python",
   "nbconvert_exporter": "python",
   "pygments_lexer": "ipython3",
   "version": "3.7.4"
  }
 },
 "nbformat": 4,
 "nbformat_minor": 2
}
