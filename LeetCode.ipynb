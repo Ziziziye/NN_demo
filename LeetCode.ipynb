{
 "cells": [
  {
   "cell_type": "code",
   "execution_count": 1,
   "metadata": {},
   "outputs": [
    {
     "name": "stdout",
     "output_type": "stream",
     "text": [
      "3\n",
      "3 1 2\n",
      "6\n"
     ]
    }
   ],
   "source": [
    "n=int(input().strip())\n",
    "l=list(map(int,input().strip().split()))\n",
    "def max_l(l,n):\n",
    "    if n<3:\n",
    "        return None\n",
    "    if n==3:\n",
    "        return l[0]*l[1]*l[2]\n",
    "    a,b=[],[]\n",
    "    a1,a2=l[:],l[:]\n",
    "    for i in range(3):\n",
    "        max1=max(a1)\n",
    "        a.append(max1)\n",
    "        a1.remove(max1)\n",
    "    for i in range(2):\n",
    "        min2=min(a2)\n",
    "        b.append(min2)\n",
    "        a2.remove(min2)\n",
    "    maxNum=max(a[0]*a[1]*a[2],b[0]*b[1]*a[0])\n",
    "    return maxNum\n",
    "\n",
    "print(max_l(l,n))"
   ]
  },
  {
   "cell_type": "code",
   "execution_count": 2,
   "metadata": {},
   "outputs": [
    {
     "name": "stdout",
     "output_type": "stream",
     "text": [
      "12 13\n",
      "156\n"
     ]
    }
   ],
   "source": [
    "s = list(map(int, input().strip().split(' ')))\n",
    "print(str(s[0]*s[1]))"
   ]
  },
  {
   "cell_type": "code",
   "execution_count": 23,
   "metadata": {},
   "outputs": [
    {
     "name": "stdout",
     "output_type": "stream",
     "text": [
      "3\n",
      "3 2 4\n",
      "4\n",
      "1 6 2 4\n",
      "[3, 2, 4]\n",
      "[1, 6, 2, 4]\n",
      "3\n"
     ]
    }
   ],
   "source": [
    "#  第一行：n，表示h数组元素个数\n",
    "#  第二行：n个h数组元素\n",
    "#  第三行：m，表示w数组元素个数\n",
    "#  第四行：m个w数组元素\n",
    "\n",
    "N = int(input().strip())\n",
    "H = list(map(int, input().strip().split(' '))) # 重量要求\n",
    "M = int(input().strip())\n",
    "W = list(map(int, input().strip().split(' ')))  # 巧克力数目\n",
    "\n",
    "H.sort()\n",
    "W.sort()\n",
    "\n",
    "n = 0\n",
    "w = 0\n",
    "for j in range(M):\n",
    "    w = w + W[j]\n",
    "    if n >= N:\n",
    "        break\n",
    "    if w >= H[n]:\n",
    "        n = n+1\n",
    "        w = 0\n",
    "    elif w < H[n]:\n",
    "        w = 0\n",
    "        continue\n",
    "print(n)"
   ]
  },
  {
   "cell_type": "code",
   "execution_count": 22,
   "metadata": {},
   "outputs": [
    {
     "name": "stdout",
     "output_type": "stream",
     "text": [
      "3\n",
      "1 3 2\n",
      "4\n",
      "5 3 2 7\n",
      "[1, 2, 3]\n",
      "[2, 3, 5, 7]\n",
      "3\n"
     ]
    }
   ],
   "source": [
    "N = int(input().strip())\n",
    "H = list(map(int, input().strip().split(' '))) # 重量要求\n",
    "M = int(input().strip())\n",
    "W = list(map(int, input().strip().split(' ')))  # 巧克力数目\n",
    "\n",
    "H.sort()\n",
    "W.sort()\n",
    "print(H)\n",
    "print(W)\n",
    "\n",
    "n = 0\n",
    "k =0\n",
    "flag = 0\n",
    "for i in range(N):\n",
    "    for j in range(k, M):\n",
    "        if W[j] >= H[i]:\n",
    "            flag =1\n",
    "            n += 1\n",
    "            k = j+1\n",
    "            break\n",
    "    if flag==0:\n",
    "        break\n",
    "print(n)"
   ]
  },
  {
   "cell_type": "code",
   "execution_count": 28,
   "metadata": {},
   "outputs": [
    {
     "name": "stdout",
     "output_type": "stream",
     "text": [
      "[7, 6, 4, 2, 1]\n",
      "[7, 6, 4, 2, 1]\n",
      "1212121212\n",
      "['1', '2', '1', '2', '1', '2', '1', '2', '1', '2']\n"
     ]
    }
   ],
   "source": [
    "h = [1,4,2,6,7]\n",
    "h.sort(reverse = True)\n",
    "print(h)\n",
    "H = sorted(h,reverse = True)\n",
    "print(H)"
   ]
  },
  {
   "cell_type": "code",
   "execution_count": 62,
   "metadata": {},
   "outputs": [
    {
     "name": "stdout",
     "output_type": "stream",
     "text": [
      "1110\n",
      "[1, 1, 2]\n",
      "2\n"
     ]
    }
   ],
   "source": [
    "ss = list(input())\n",
    "stack = []\n",
    "flag = 0\n",
    "count = 1\n",
    "if len(ss)<=1:\n",
    "    print(len(ss))\n",
    "elif len(ss)==2:\n",
    "    if ss[0]==ss[1]:\n",
    "        print(1)\n",
    "    else:\n",
    "        print(2)\n",
    "else:\n",
    "    for i in range(1,len(ss)):\n",
    "        for j in range(i,len(ss)):\n",
    "            if ss[j-1]!=ss[j]:\n",
    "                count += 1 \n",
    "            if ss[j-1] == ss[j]:\n",
    "                stack.append(count)\n",
    "                flag = 1\n",
    "                count = 1\n",
    "                break\n",
    "        if j == len(ss)-1:\n",
    "            stack.append(count)\n",
    "            count = 1\n",
    "    if flag == 1:\n",
    "        print(stack)\n",
    "        print(max(stack))\n",
    "    else:\n",
    "        print(len(ss))"
   ]
  },
  {
   "cell_type": "code",
   "execution_count": 11,
   "metadata": {},
   "outputs": [
    {
     "name": "stdout",
     "output_type": "stream",
     "text": [
      "1066\n",
      "802\n"
     ]
    }
   ],
   "source": [
    "N = int(input())\n",
    "L = list(range(N))\n",
    "# label = 0 \n",
    "# while(N>1):\n",
    "#     count = 0\n",
    "#     for Id in range(N):        \n",
    "#         label += 1\n",
    "#         if label%3 == 0:\n",
    "#             L.pop(Id-count)\n",
    "#             count = count + 1\n",
    "#     N = N - count\n",
    "# print(L[0]+1)    \n",
    "label = 0\n",
    "while(len(L)>1):\n",
    "    a = L.pop(0)\n",
    "    label += 1\n",
    "    if label%3 == 0:\n",
    "        continue\n",
    "    else:\n",
    "        L.append(a)\n",
    "print(L[0]+1)    "
   ]
  },
  {
   "cell_type": "code",
   "execution_count": 27,
   "metadata": {},
   "outputs": [
    {
     "name": "stdout",
     "output_type": "stream",
     "text": [
      "10\n",
      "299.609375   0.09765625\n"
     ]
    }
   ],
   "source": [
    "N = int(input())\n",
    "S = 100 \n",
    "h = 50\n",
    "for i in range(N-1):\n",
    "    S = S + 2*h\n",
    "    h = h / 2\n",
    "print(S,' ',h)"
   ]
  },
  {
   "cell_type": "code",
   "execution_count": 18,
   "metadata": {},
   "outputs": [
    {
     "name": "stdout",
     "output_type": "stream",
     "text": [
      "3\n",
      "3 4 1\n"
     ]
    }
   ],
   "source": [
    "N = int(input())\n",
    "def Fibo12(N):\n",
    "    if N == 1:\n",
    "        return 1\n",
    "    if N == 2:\n",
    "        return 2\n",
    "    return Fibo12(N-1)+Fibo12(N-2)\n",
    "def Fibo123(N):\n",
    "    if N == 1:\n",
    "        return 1\n",
    "    if N == 2:\n",
    "        return 2\n",
    "    if N == 3:\n",
    "        return 4\n",
    "    return Fibo123(N-1)+Fibo123(N-2)+Fibo123(N-3)\n",
    "def Fibo23(N):\n",
    "    if N < 2:\n",
    "        return 0\n",
    "    if N == 2:\n",
    "        return 1\n",
    "    if N == 3:\n",
    "        return 1\n",
    "    return Fibo23(N-2)+Fibo23(N-3)\n",
    "print(Fibo12(N),Fibo123(N),Fibo23(N))"
   ]
  },
  {
   "cell_type": "code",
   "execution_count": 12,
   "metadata": {},
   "outputs": [
    {
     "name": "stdout",
     "output_type": "stream",
     "text": [
      "abcd sbca\n",
      "False\n"
     ]
    }
   ],
   "source": [
    "s = input().split(' ')\n",
    "s1 = list(s[0])\n",
    "s2 = list(s[1])\n",
    "if len(s1)!=len(s2):\n",
    "    print('False')\n",
    "else:\n",
    "    s1.sort()\n",
    "    s2.sort()\n",
    "    print(s1 == s2)\n"
   ]
  },
  {
   "cell_type": "code",
   "execution_count": 50,
   "metadata": {},
   "outputs": [
    {
     "name": "stdout",
     "output_type": "stream",
     "text": [
      "1234567 12893457\n",
      "345\n"
     ]
    }
   ],
   "source": [
    "### 请编码实现一个命令行工具，找出指定的2个字符串的最长公共子串\n",
    "import numpy as np\n",
    "s = input().split(' ')\n",
    "s1 = s[0]\n",
    "s2 = s[1]\n",
    "m = len(s1)\n",
    "n = len(s2)\n",
    "stack = np.zeros((m,n),dtype = int)\n",
    "if s1[0]==s2[0]:\n",
    "    stack[0][0] = 1\n",
    "for i in range(1,m):\n",
    "    for j in range(1,n):\n",
    "        if s1[i]==s2[j]:\n",
    "            stack[i][j]=1 + stack[i-1][j-1]\n",
    "M = np.max(stack)\n",
    "Id = np.argmax(stack)\n",
    "id_y = Id % n \n",
    "id_x = int((Id - id_y)/n)\n",
    "print(s1[id_x-M+1:id_x+1])"
   ]
  },
  {
   "cell_type": "code",
   "execution_count": 9,
   "metadata": {},
   "outputs": [
    {
     "name": "stdout",
     "output_type": "stream",
     "text": [
      "6\n"
     ]
    }
   ],
   "source": [
    "# 最大子序列和, 分治\n",
    "def cross_sum(nums, left, right, p):\n",
    "    \"\"\"\n",
    "    p - mid id\n",
    "    判断跨\n",
    "    \"\"\"\n",
    "    if left==right:\n",
    "        return nums[left]\n",
    "    left_subsum = float('-inf')\n",
    "    left_sum = 0\n",
    "    for i in range(p, left-1, -1):\n",
    "        left_sum += nums[i]\n",
    "        left_subsum = max(left_subsum, left_sum)\n",
    "        \n",
    "    right_sum = 0\n",
    "    right_subsum = float('-inf')\n",
    "    for i in range(p+1, right+1):\n",
    "        right_sum += nums[i]\n",
    "        right_subsum = max(right_sum, right_subsum)\n",
    "        \n",
    "    return left_subsum + right_subsum\n",
    "\n",
    "def helper(nums, left, right):\n",
    "    if left==right:\n",
    "        return nums[left]\n",
    "    \n",
    "    p = (left+right)//2\n",
    "    left_sum = helper(nums, left, p)\n",
    "    right_sum = helper(nums, p+1, right)\n",
    "    cross = cross_sum(nums, left, right, p)\n",
    "    return max(left_sum, right_sum, cross)\n",
    "\n",
    "def max_subArray(A, n):\n",
    "    return helper(A, 0, n-1)\n",
    "\n",
    "print(max_subArray([-2,1,-3,4,-1,2,1,-5,4],8))"
   ]
  },
  {
   "cell_type": "code",
   "execution_count": 4,
   "metadata": {},
   "outputs": [
    {
     "name": "stdout",
     "output_type": "stream",
     "text": [
      "6\n"
     ]
    }
   ],
   "source": [
    "# 最大子序列和\n",
    "def max_subarray(A, n):\n",
    "    cur_sum = A[0]\n",
    "    max_sum = A[0]\n",
    "    for i in range(1,n):\n",
    "        if cur_sum<0:\n",
    "            cur_sum = 0\n",
    "        cur_sum += A[i]\n",
    "        max_sum = max(cur_sum, max_sum)\n",
    "    return max_sum\n",
    "print(max_subarray([-2,1,-3,4,-1,2,1,-5,4],9))"
   ]
  },
  {
   "cell_type": "code",
   "execution_count": 30,
   "metadata": {},
   "outputs": [
    {
     "name": "stdout",
     "output_type": "stream",
     "text": [
      "[[2, 7]]\n"
     ]
    }
   ],
   "source": [
    "def pairSums(nums, target):\n",
    "    if len(nums)== 0:\n",
    "        return []\n",
    "    nums.sort()\n",
    "    l, r, res = 0, len(nums) - 1, []\n",
    "    while l < r:\n",
    "        if nums[l] + nums[r] < target:\n",
    "            l += 1\n",
    "        elif nums[l] + nums[r] > target:\n",
    "            r -= 1\n",
    "        elif nums[l] + nums[r] == target:\n",
    "            res.append([nums[l], nums[r]])\n",
    "            l += 1\n",
    "            r -= 1\n",
    "    return res\n",
    "\n",
    "res = pairSums([2,7,8,3],9)\n",
    "print(res)"
   ]
  },
  {
   "cell_type": "code",
   "execution_count": 51,
   "metadata": {},
   "outputs": [
    {
     "name": "stdout",
     "output_type": "stream",
     "text": [
      "162003090 996325786\n",
      "858958590 963069888\n",
      "885515894 920601393\n",
      "908712433 884253640\n",
      "924879241 739410870\n",
      "984497726 729278470\n",
      "990689002 126354657\n"
     ]
    }
   ],
   "source": [
    "def RightUp(res, point):\n",
    "    if res==[]:\n",
    "        return True\n",
    "    else:\n",
    "        for i in res:\n",
    "            if i[0] > point[0] and i[1] > point[1]: \n",
    "                return False\n",
    "                break\n",
    "    return True\n",
    "\n",
    "# n = int(input())\n",
    "# node = []\n",
    "# for i in range(n):\n",
    "#     node.append(list(map(int, input().split())))\n",
    "    \n",
    "n = 7\n",
    "node = [[162003090,996325786],[858958590,963069888],[885515894,920601393],[908712433,884253640],\n",
    "        [924879241,739410870],[984497726,729278470],[990689002,126354657]]\n",
    "res = []\n",
    "dec = True\n",
    "while(dec):\n",
    "    node.sort(reverse = True)\n",
    "    point = node[0]\n",
    "    dec = RightUp(res, point)\n",
    "    if dec:\n",
    "        res.append(point)\n",
    "        node.remove(point)\n",
    "        if len(node)==0:\n",
    "            break\n",
    "        \n",
    "    node = sorted(node, key = (lambda k: k[1]), reverse = True)\n",
    "    point = node[0]\n",
    "    dec = RightUp(res, point)\n",
    "    if dec:\n",
    "        res.append(point)\n",
    "        node.remove(point)\n",
    "        dec = True\n",
    "        if len(node)==0:\n",
    "            break\n",
    "    \n",
    "res.sort()\n",
    "for i in res:\n",
    "    print(i[0], i[1])"
   ]
  },
  {
   "cell_type": "code",
   "execution_count": 88,
   "metadata": {},
   "outputs": [
    {
     "name": "stdout",
     "output_type": "stream",
     "text": [
      "162003090 996325786\n",
      "858958590 963069888\n",
      "885515894 920601393\n",
      "908712433 884253640\n",
      "924879241 739410870\n",
      "984497726 729278470\n",
      "990689002 126354657\n"
     ]
    }
   ],
   "source": [
    "# n = int(input())\n",
    "# node = []\n",
    "# for i in range(n):\n",
    "#     node.append(list(map(int, input().split())))\n",
    "n = 7\n",
    "node = [[162003090,996325786],[858958590,963069888],[885515894,920601393],[908712433,884253640],\n",
    "        [924879241,739410870],[984497726,729278470],[990689002,126354657]]\n",
    "node.sort()\n",
    "res = []\n",
    "res.append(node[-1])\n",
    "max_y = node[n-1][1]\n",
    "for i in range(n-2, -1, -1):\n",
    "    tem = node[i][1]\n",
    "    if tem > max_y:\n",
    "        res.append(node[i])\n",
    "        max_y = node[i][1]  \n",
    "for i in range(len(res)-1, -1, -1):\n",
    "    print(res[i][0], res[i][1])"
   ]
  },
  {
   "cell_type": "code",
   "execution_count": 90,
   "metadata": {},
   "outputs": [
    {
     "name": "stdout",
     "output_type": "stream",
     "text": [
      "4\n",
      "6 2 1 8\n",
      "64\n"
     ]
    }
   ],
   "source": [
    "n = int(input())\n",
    "L = list(map(int, input().split()))\n",
    "res = 0\n",
    "i = 0\n",
    "for i in range(n):\n",
    "    subA_sum = 0\n",
    "    for left in range(i,-1,-1):\n",
    "        if L[left]>=L[i]:\n",
    "            subA_sum += L[left]\n",
    "        else:\n",
    "            break\n",
    "    for right in range(i+1,n):\n",
    "        if  L[right]>=L[i]:\n",
    "            subA_sum += L[right]\n",
    "        else:\n",
    "            break\n",
    "    res = max(res, subA_sum*L[i])\n",
    "print(res)"
   ]
  },
  {
   "cell_type": "code",
   "execution_count": 80,
   "metadata": {},
   "outputs": [
    {
     "name": "stdout",
     "output_type": "stream",
     "text": [
      "[1, 2, 3, 4]\n"
     ]
    }
   ],
   "source": [
    "n, m = list(map(int, input().split()))\n",
    "Q = list(map(int, input().split()))\n",
    "L = list(map(int, input().split()))\n",
    "li = [[] for _ in range(2 * m)]\n",
    "result = 0\n",
    "for i in range(n):\n",
    "    li[L[i] - 1 + i % 2 * m].append(i + 1)\n",
    "for l in li:\n",
    "    q = a = c = 0\n",
    "    for i in l:\n",
    "        q += Q[i - 1]\n",
    "        a += i\n",
    "        c += i*Q[i - 1]\n",
    "    result += q*a + c * (len(l) - 2)\n",
    "print(result % 10007)"
   ]
  },
  {
   "cell_type": "code",
   "execution_count": 114,
   "metadata": {},
   "outputs": [
    {
     "name": "stdout",
     "output_type": "stream",
     "text": [
      "5\n",
      "2 4 2 3 1\n",
      "to [1, 3, 1, 2, 0]\n",
      "stack [4]\n",
      "in_degree [1, 2, 1, 1, 0]\n",
      "stack [0]\n",
      "in_degree [0, 2, 1, 1, -1]\n",
      "stack []\n",
      "in_degree [-1, 1, 1, 1, -1]\n",
      "in [-1, 1, 1, -1, -1]\n",
      "in [-1, 1, -1, -1, -1]\n",
      "3\n"
     ]
    }
   ],
   "source": [
    "## 判环\n",
    "\"\"\"\n",
    "基于判环算法，去掉所有不构成环的顶点和边\n",
    "对于剩下的节点，统计有多少个环&环中顶点个数\n",
    "\"\"\"\n",
    "def f():\n",
    "    n = int(input())\n",
    "    to = [int(item) - 1 for item in input().split()]\n",
    "        \n",
    "    in_degree = [0] * n\n",
    "    for i in range(n):\n",
    "        in_degree[to[i]] += 1\n",
    "    stack = []\n",
    "    print('to',to)\n",
    "    for i in range(n):\n",
    "        if in_degree[i] == 0:\n",
    "            stack.append(i)\n",
    "    print('stack',stack)\n",
    "    print('in_degree',in_degree)\n",
    "    while len(stack) != 0:\n",
    "        top = stack[-1]\n",
    "        in_degree[top] -= 1  # in_degree==-1,则代表删除了\n",
    "        stack.pop(-1)\n",
    "        in_degree[to[top]] -= 1\n",
    "        if in_degree[to[top]] == 0:\n",
    "            stack.append(to[top])\n",
    "        print('stack',stack)\n",
    "        print('in_degree',in_degree)\n",
    "    min_num = 200000\n",
    "    for i in range(n):\n",
    "        if in_degree[i]!=-1:\n",
    "            start = i\n",
    "            num = 1\n",
    "            while to[i] != start:\n",
    "                i = to[i]\n",
    "                num += 1\n",
    "                in_degree[i] = -1  # 同一个圈内的就不重复计算环了\n",
    "                print('in', in_degree)\n",
    "            min_num = min(min_num, num)\n",
    "    return min_num\n",
    " \n",
    "ans = f()\n",
    "print(ans)"
   ]
  },
  {
   "cell_type": "code",
   "execution_count": 103,
   "metadata": {},
   "outputs": [
    {
     "name": "stdout",
     "output_type": "stream",
     "text": [
      "A\n",
      "C\n",
      "E\n",
      "D\n",
      "F\n",
      "B\n"
     ]
    }
   ],
   "source": [
    "def DFS(graph, s):\n",
    "    stack = [s]\n",
    "    seen = set()\n",
    "    seen.add(s)\n",
    "    while(len(stack)> 0):\n",
    "        vertex = stack.pop()\n",
    "        nodes = graph[vertex]\n",
    "        for w in nodes:\n",
    "            if w not in seen:\n",
    "                stack.append(w)\n",
    "                seen.add(w)\n",
    "        print(vertex)\n",
    "        \n",
    "graph = {\n",
    "    'A': ['B','C'],\n",
    "    'B': ['A','C','D'],\n",
    "    'C': ['A','B','D','E'],\n",
    "    'D': ['B','C','E','F'],\n",
    "    'E': ['C','D'],\n",
    "    'F': ['D']\n",
    "}\n",
    "s = 'A'\n",
    "DFS(graph, s)"
   ]
  },
  {
   "cell_type": "code",
   "execution_count": 104,
   "metadata": {},
   "outputs": [
    {
     "name": "stdout",
     "output_type": "stream",
     "text": [
      "A\n",
      "B\n",
      "C\n",
      "D\n",
      "E\n",
      "F\n"
     ]
    }
   ],
   "source": [
    "def BFS(graph, s):\n",
    "    quene = [s]\n",
    "    seen = set()\n",
    "    seen.add(s)\n",
    "    while(len(quene)> 0):\n",
    "        vertex = quene.pop(0)\n",
    "        nodes = graph[vertex]\n",
    "        for w in nodes:\n",
    "            if w not in seen:\n",
    "                quene.append(w)\n",
    "                seen.add(w)\n",
    "        print(vertex)\n",
    "BFS(graph, s)"
   ]
  },
  {
   "cell_type": "code",
   "execution_count": 109,
   "metadata": {},
   "outputs": [
    {
     "name": "stdout",
     "output_type": "stream",
     "text": [
      "B\n",
      "C\n",
      "E\n"
     ]
    }
   ],
   "source": [
    "## 最短路径\n",
    "def shortest(graph, s):\n",
    "    quene = [s]\n",
    "    seen = set()\n",
    "    seen.add(s)\n",
    "    parent = {s: None}  # 前驱\n",
    "    while(len(quene)> 0):\n",
    "        vertex = quene.pop(0)\n",
    "        nodes = graph[vertex]\n",
    "        for w in nodes:\n",
    "            if w not in seen:\n",
    "                quene.append(w)\n",
    "                seen.add(w)\n",
    "                parent[w] = vertex\n",
    "#         print(vertex)\n",
    "    return parent\n",
    "parent = shortest(graph, 'E')\n",
    "v = 'B'\n",
    "while v != None:\n",
    "    print(v)\n",
    "    v = parent[v]"
   ]
  },
  {
   "cell_type": "code",
   "execution_count": 120,
   "metadata": {},
   "outputs": [
    {
     "name": "stdout",
     "output_type": "stream",
     "text": [
      "[(1, 1), (2, 1), (3, 1), (4, 1), (5, 1), (5, 2), (5, 3), (6, 3), (6, 4), (6, 5), (7, 5), (8, 5), (8, 6), (8, 7), (8, 8)]\n"
     ]
    }
   ],
   "source": [
    "maze = [\n",
    "    [1,1,1,1,1,1,1,1,1,1],\n",
    "    [1,0,0,1,0,0,0,1,0,1],\n",
    "    [1,0,0,1,0,0,0,1,0,1],\n",
    "    [1,0,0,0,1,1,0,0,0,1],\n",
    "    [1,0,1,1,1,0,0,0,0,1],\n",
    "    [1,0,0,0,1,0,0,0,0,1],\n",
    "    [1,0,1,0,0,0,1,0,0,1],\n",
    "    [1,0,1,1,1,0,1,1,0,1],\n",
    "    [1,1,0,0,0,0,0,0,0,1],\n",
    "    [1,1,1,1,1,1,1,1,1,1]\n",
    "]  #迷宫本体\n",
    "\n",
    "dirs = [\n",
    "    lambda x,y:(x+1,y), #下\n",
    "    lambda x,y:(x-1,y), #上\n",
    "    lambda x,y:(x,y-1), #左\n",
    "    lambda x,y:(x,y+1)  #右\n",
    "]   #四个方向\n",
    "def solve_maze(x1,y1,x2,y2): \n",
    "    stack = []  #建立一个抽象栈\n",
    "    stack.append((x1,y1))  #加入第一个点\n",
    "    maze[x1][y1]=2   #2表示已经走过的路\n",
    "    while len(stack) > 0: #当栈不空时\n",
    "        cur_node = stack[-1]  #栈倒数第一个值(栈顶的值)\n",
    "        if cur_node==(x2,y2):  #到达终点\n",
    "            print(stack)  #将解法打印出来\n",
    "            return  #并且return\n",
    "        for dir in dirs:\n",
    "            #next_node=dir(*cur_node)\n",
    "            next_node = dir(cur_node[0],cur_node[1])\n",
    "            if maze[next_node[0]][next_node[1]] == 0: #等于0表示可以走\n",
    "                stack.append(next_node)  #加入栈\n",
    "                maze[next_node[0]][next_node[1]] = 2 #2表示走过了\n",
    "                break\n",
    "        else:\n",
    "            stack.pop()\n",
    "    else:\n",
    "        print('No way to go')\n",
    "solve_maze(1,1,8,8)"
   ]
  },
  {
   "cell_type": "code",
   "execution_count": 33,
   "metadata": {},
   "outputs": [
    {
     "name": "stdout",
     "output_type": "stream",
     "text": [
      "Tom\n"
     ]
    }
   ],
   "source": [
    "s = 'Tom,Lily,Tom,Lucy,Lucy,Tom,Jack'\n",
    "def f(s):\n",
    "    for i in s:\n",
    "        if i!=',' and (ord(i)< 65 or ord(i)>122):\n",
    "            return 'error.0001'\n",
    "    V = list(map(str, s.split(',')))\n",
    "    dic = {}\n",
    "    for i in V:\n",
    "        if i not in dic:\n",
    "            dic[i] = 1\n",
    "        else:\n",
    "            dic[i]+= 1\n",
    "    max_v = 0\n",
    "    for i in dic:\n",
    "        if max_v < dic[i]:\n",
    "            max_v = dic[i]\n",
    "            res = i\n",
    "        elif max_v == dic[i]:\n",
    "            if res > i:\n",
    "                max_v = dic[i]\n",
    "                res = i\n",
    "    return res\n",
    "print(f(s))\n"
   ]
  },
  {
   "cell_type": "code",
   "execution_count": 30,
   "metadata": {},
   "outputs": [
    {
     "name": "stdout",
     "output_type": "stream",
     "text": [
      "Tom\n"
     ]
    }
   ],
   "source": [
    "s = 'Tom,Lily,Tom,Lucy,Lucy,Tom,Jack'\n",
    "V = list(map(str, s.split(',')))\n",
    "dic = {}\n",
    "for i in V:\n",
    "    if i not in dic:\n",
    "        dic[i] = 1\n",
    "    else:\n",
    "        dic[i]+= 1\n",
    "max_v = 0\n",
    "for i in dic:\n",
    "    if max_v < dic[i]:\n",
    "        max_v = dic[i]\n",
    "        res = i\n",
    "    elif max_v == dic[i]:\n",
    "        if res > i:\n",
    "            max_v = dic[i]\n",
    "            res = i\n",
    "print(res)"
   ]
  },
  {
   "cell_type": "code",
   "execution_count": 59,
   "metadata": {},
   "outputs": [
    {
     "name": "stdout",
     "output_type": "stream",
     "text": [
      "FALL\n"
     ]
    }
   ],
   "source": [
    "s = 'read read_his[addr=0xff,mask=0xff,val=0x1],read_h[addr=0xf0,mask=0xff,val=0x80]'\n",
    "name, L = list(map(str, s.split(' ')))\n",
    "L = list(map(str, L.split('],')))\n",
    "flag = 0\n",
    "for string in L:\n",
    "    tem_name, tem = list(map(str, string.strip(']').split('[')))\n",
    "    if tem_name == name:\n",
    "        res = list(map(str, tem.split(',')))\n",
    "        print(res[0][5:],end = ' ')\n",
    "        print(res[1][5:], end = ' ')\n",
    "        print(res[2][4:],end = '\\n')\n",
    "        flag = 1\n",
    "if flag==0:\n",
    "    print(\"FALL\")"
   ]
  },
  {
   "cell_type": "code",
   "execution_count": 73,
   "metadata": {},
   "outputs": [
    {
     "name": "stdout",
     "output_type": "stream",
     "text": [
      "g\n",
      "False\n"
     ]
    }
   ],
   "source": [
    "def sixteen(s):\n",
    "    ss = 'ABCDEFabcdef0123456789'\n",
    "    if s[:2]=='0x' or '0X':   \n",
    "        for i in s[2:]:\n",
    "            if i not in ss:\n",
    "                return False\n",
    "    else:\n",
    "        return False\n",
    "print(sixteen('0xgb'))"
   ]
  },
  {
   "cell_type": "code",
   "execution_count": 79,
   "metadata": {},
   "outputs": [
    {
     "name": "stdout",
     "output_type": "stream",
     "text": [
      "['a', 'b', 'c', 'd', '?', '?', 'e', '?', 'f', 'g', '?', '?', 'l', 'k']\n",
      "ablk\n"
     ]
    }
   ],
   "source": [
    "s = list('abcd??e?fg??lk')\n",
    "if s[0]=='?':\n",
    "    print(\"false\")\n",
    "else:\n",
    "    p = 0\n",
    "    count = 0\n",
    "    n = len(s)\n",
    "    while(p+count<n):\n",
    "        if s[p] == '?':\n",
    "            s.pop(p)\n",
    "            s.pop(p-1)\n",
    "            count += 2\n",
    "            p -= 1\n",
    "        else:\n",
    "            p+=1\n",
    "    print(''.join(map(str, s)))"
   ]
  },
  {
   "cell_type": "code",
   "execution_count": 4,
   "metadata": {},
   "outputs": [
    {
     "name": "stdout",
     "output_type": "stream",
     "text": [
      "[[ 7 10]\n",
      " [15 22]]\n",
      "[[0.5 1. ]\n",
      " [1.5 2. ]]\n"
     ]
    }
   ],
   "source": [
    "import numpy as np\n",
    "\n",
    "# .dot  matrix multiply ; .multiply  nummber multiply\n",
    "\n",
    "a = np.array([[1,2],[3,4]])\n",
    "b = np.array([[1,2],[3,4]])\n",
    "print(np.dot(a,b))\n",
    "print(a/2)"
   ]
  },
  {
   "cell_type": "code",
   "execution_count": 19,
   "metadata": {},
   "outputs": [
    {
     "name": "stdout",
     "output_type": "stream",
     "text": [
      "('a', 1)\n",
      "<class 'tuple'>\n",
      "('b', 5)\n",
      "<class 'tuple'>\n",
      "('c', 1)\n",
      "<class 'tuple'>\n",
      "[1, 2, [3, 4]]\n",
      "copy [1, 2, [3, 4, 5]] [1, 2, [3, 4, 5]]\n",
      "deep copy [1, 2, [3, 4, 5]] [1, 2, [4, 5]]\n"
     ]
    }
   ],
   "source": [
    "import copy\n",
    "dic = {'a': 1, 'b': 5, 'c':1}\n",
    "sorted(dic.items(),key = lambda x:x[1],reverse = True)\n",
    "for i in dic.items():\n",
    "    print(i)\n",
    "    print(type(i))\n",
    "    \n",
    "a = [1,2,[3,4]]\n",
    "b = a.copy()\n",
    "print(a)\n",
    "b[2].append(5)\n",
    "print('copy',a,b)\n",
    "c = copy.deepcopy(a)\n",
    "c[2].pop(0)\n",
    "print('deep copy',a,c)"
   ]
  },
  {
   "cell_type": "code",
   "execution_count": 2,
   "metadata": {},
   "outputs": [
    {
     "name": "stdout",
     "output_type": "stream",
     "text": [
      "[[ 37  54]\n",
      " [ 81 118]]\n",
      "[[ 37  54]\n",
      " [ 81 118]]\n"
     ]
    }
   ],
   "source": [
    "import numpy as np\n",
    "a = np.array([[1,2],[3,4]])\n",
    "b = np.array([[1,2],[3,4]])\n",
    "c = np.array([[1,2],[3,4]])\n",
    "print(np.dot(a, np.dot(b,c)))\n",
    "print(np.dot(np.dot(a,b), c))"
   ]
  },
  {
   "cell_type": "code",
   "execution_count": 8,
   "metadata": {},
   "outputs": [
    {
     "name": "stdout",
     "output_type": "stream",
     "text": [
      "981\n"
     ]
    }
   ],
   "source": [
    "def calculate(n):\n",
    "        # write code here\n",
    "        if n==1:\n",
    "            return 10\n",
    "        elif n==2:\n",
    "            return 99\n",
    "        dp = [0]*n\n",
    "        dp[0] = 10\n",
    "        dp[1] = 99\n",
    "        for i in range(2,n):\n",
    "            dp[i] = 9*(dp[i-1]+dp[i-2])\n",
    "        return dp[n-1]\n",
    "print(calculate(3))"
   ]
  },
  {
   "cell_type": "markdown",
   "metadata": {},
   "source": [
    "long long solve(int n,int *a) {\n",
    "        sort(a,a+n);\n",
    "        long long sum = 0;\n",
    "        for(int i=0;i<n;i++) {\n",
    "            if(a[i]>sum+1) break;\n",
    "            sum += a[i];\n",
    "        }\n",
    "        return sum+1;\n",
    "    }\n",
    "    string Throwdice(int n, int m, int* a, int aLen, int* b, int bLen) {\n",
    "        // write code here\n",
    "        if(solve(n,a)>solve(n,b)) return \"Happy\";\n",
    "        else return \"Sad\";\n",
    "    }\n",
    "};\n"
   ]
  },
  {
   "cell_type": "code",
   "execution_count": 19,
   "metadata": {},
   "outputs": [
    {
     "name": "stdout",
     "output_type": "stream",
     "text": [
      "[1, 2, 5] 1\n",
      "[1, 2, 5] 3\n",
      "4\n",
      "[1, 3, 5] 1\n",
      "2\n",
      "[1, 2, 5] 1\n",
      "[1, 2, 5] 3\n",
      "[1, 3, 5] 1\n",
      "Happy\n"
     ]
    }
   ],
   "source": [
    "def solve(n, a):\n",
    "    a.sort()\n",
    "    sum_t = 0\n",
    "    for i in range(n):\n",
    "        if a[i]>sum_t+1:\n",
    "            break\n",
    "        sum_t += a[i]\n",
    "        print(a,sum_t)\n",
    "    return sum_t+1\n",
    "        \n",
    "def Throwdice(n , m , a , b ):\n",
    "    print(solve(n,a))\n",
    "    print(solve(n,b))\n",
    "    if (solve(n,a)>solve(n,b)):\n",
    "        return \"Happy\"\n",
    "    return \"Sad\"\n",
    "print(Throwdice(3,4,[1,2,5],[1,3,5]))"
   ]
  },
  {
   "cell_type": "code",
   "execution_count": 24,
   "metadata": {},
   "outputs": [
    {
     "name": "stdout",
     "output_type": "stream",
     "text": [
      "[2, 1, -1, 3, -3, 3, 4]\n",
      "arr [2, 3, 2, 5, 2, 5, 9]\n",
      "dp [0, 3, 0, 0, 0, 0, 0] res 3\n",
      "dp [0, 3, 2, 0, 0, 0, 0] res 3\n",
      "dp [0, 3, 2, 5, 0, 0, 0] res 5\n",
      "dp [0, 3, 2, 5, 2, 0, 0] res 5\n",
      "dp [0, 3, 2, 5, 2, 5, 0] res 5\n",
      "9\n"
     ]
    }
   ],
   "source": [
    " def solve(n , k , a ):\n",
    "    # write code here\n",
    "    arr=a[:]\n",
    "    print(arr)\n",
    "    for i in range(1,n):\n",
    "        arr[i]+=arr[i-1]  ## 前i项和\n",
    "    print('arr',arr)\n",
    "    dp=[0]*n\n",
    "    dp[k-1]=arr[k-1]\n",
    "    res=dp[k-1]\n",
    "    for i in range(k,n):\n",
    "        print('dp',dp,'res',res)\n",
    "        dp[i]=arr[i]-arr[i-k]  # k个数和\n",
    "        dp[i]=max(dp[i],dp[i-1]+a[i])  # 比较k个数和与前面最大和加第i位的大小\n",
    "        res=max(res,dp[i])\n",
    "    return res\n",
    "print(solve(7,2,[2,1,-1,3,-3, 3,4]))"
   ]
  },
  {
   "cell_type": "code",
   "execution_count": 25,
   "metadata": {},
   "outputs": [
    {
     "name": "stdout",
     "output_type": "stream",
     "text": [
      "3 2\n",
      "1 1\n",
      "1 10\n",
      "3 1\n",
      "10\n"
     ]
    }
   ],
   "source": [
    "n, m = list(map(int, input().strip().split()))\n",
    "res = 0\n",
    "p = 0\n",
    "for i in range(n):\n",
    "    c, w = list(map(int,input().strip().split()))\n",
    "    if w*m >= c:\n",
    "        res = res + w\n",
    "        p += c\n",
    "if p%m==0:\n",
    "    p = p//m\n",
    "else:\n",
    "    p = p//m + 1\n",
    "print(res-p)"
   ]
  },
  {
   "cell_type": "code",
   "execution_count": 39,
   "metadata": {},
   "outputs": [
    {
     "name": "stdout",
     "output_type": "stream",
     "text": [
      "3 3\n",
      "15\n"
     ]
    }
   ],
   "source": [
    "m,n = list(map(int,input().split()))\n",
    "res = 0\n",
    "if m==1 or n==1:\n",
    "    print(res)\n",
    "else:\n",
    "    k = 0\n",
    "    c = 1\n",
    "    if n%2==0:\n",
    "        tem = 1\n",
    "    else:\n",
    "        tem = -1\n",
    "    while(k< n-1):\n",
    "        res += tem*c\n",
    "        c = c*(n-1-k)/(k+1)\n",
    "        tem = tem*(-m)\n",
    "        k += 1\n",
    "    res = (res*m)%100003\n",
    "    print(int(res))"
   ]
  },
  {
   "cell_type": "code",
   "execution_count": 44,
   "metadata": {},
   "outputs": [
    {
     "name": "stdout",
     "output_type": "stream",
     "text": [
      "5 3\n",
      "2 11 21\n",
      "19 10 1\n",
      "20 11 1\n",
      "6 15 24\n",
      "18 27 36\n",
      "3\n"
     ]
    }
   ],
   "source": [
    "n, k = list(map(int, input().split()))\n",
    "res = 0\n",
    "M = []\n",
    "for i in range(n):\n",
    "    l = list(map(int, input().split()))\n",
    "    tem = []\n",
    "    for j in range(k-1):\n",
    "        tem.append(l[j+1]-l[j])\n",
    "    M.append(tem)\n",
    "for i in range(n):\n",
    "    for j in range(i+1,n):\n",
    "        flag = 0\n",
    "        for t in range(k-1):\n",
    "            if M[i][t]+M[j][t]!=0:\n",
    "                flag = 1\n",
    "        if flag==0:\n",
    "            res += 1\n",
    "print(res)"
   ]
  },
  {
   "cell_type": "code",
   "execution_count": 45,
   "metadata": {},
   "outputs": [
    {
     "name": "stdout",
     "output_type": "stream",
     "text": [
      "5 3\n",
      "2 11 21\n",
      "18 27 36\n",
      "6 15 24\n",
      "20 11 1\n",
      "19 10 1\n",
      "3\n"
     ]
    }
   ],
   "source": [
    "n, k = list(map(int, input().split()))\n",
    "res = 0\n",
    "M = []\n",
    "for i in range(n):\n",
    "    M.append(list(map(int, input().split())))\n",
    "for i in range(n):\n",
    "    for j in range(i+1,n):\n",
    "        tem = M[i][0]+M[j][0]\n",
    "        c = 1\n",
    "        flag = 0\n",
    "        while(c < k):\n",
    "            if M[i][c]+M[j][c]!= tem:\n",
    "                flag = 1\n",
    "                break\n",
    "            c += 1\n",
    "        if flag == 1:\n",
    "            res += 1\n",
    "print(res) "
   ]
  },
  {
   "cell_type": "code",
   "execution_count": 3,
   "metadata": {},
   "outputs": [
    {
     "name": "stdout",
     "output_type": "stream",
     "text": [
      "3\n"
     ]
    }
   ],
   "source": [
    "def lengthOfLongestSubstring(s: str):\n",
    "    n = len(s)\n",
    "    if s==\"\":\n",
    "        return 0\n",
    "    head = 0\n",
    "    maxres = 0\n",
    "    for r in range(1,n):\n",
    "        for l in range(head, r):\n",
    "            if s[l]==s[r]:\n",
    "                maxres = max(maxres, r-head)\n",
    "                head = l+1\n",
    "                break\n",
    "    return max(maxres, r-head)\n",
    "print(lengthOfLongestSubstring(\"abcabcc\"))"
   ]
  },
  {
   "cell_type": "code",
   "execution_count": 11,
   "metadata": {},
   "outputs": [
    {
     "name": "stdout",
     "output_type": "stream",
     "text": [
      "[('a', 5), ('c', 3), ('b', 2)]\n"
     ]
    }
   ],
   "source": [
    "dic = {'a':5, 'b':2, 'c':3}\n",
    "print(sorted(dic.items(), key = lambda k: k[1],reverse = True))"
   ]
  },
  {
   "cell_type": "code",
   "execution_count": 16,
   "metadata": {},
   "outputs": [
    {
     "name": "stdout",
     "output_type": "stream",
     "text": [
      "[['a', 'b', 'c', 'b', 'a', 'c'], ['a', 'bcb', 'a', 'c'], ['abcba', 'c']]\n"
     ]
    }
   ],
   "source": [
    "def partition(s: str):\n",
    "    res = []\n",
    "\n",
    "    def helper(s, tmp):\n",
    "        if not s:\n",
    "            res.append(tmp)\n",
    "        for i in range(1, len(s) + 1):\n",
    "            if s[:i] == s[:i][::-1]:\n",
    "                helper(s[i:], tmp + [s[:i]])\n",
    "    helper(s, [])\n",
    "    return res\n",
    "print(partition('abcbac'))"
   ]
  },
  {
   "cell_type": "code",
   "execution_count": 19,
   "metadata": {},
   "outputs": [
    {
     "name": "stdout",
     "output_type": "stream",
     "text": [
      "['abcd', 'abdc', 'acbd', 'acdb', 'adcb', 'adbc', 'bacd', 'badc', 'bcad', 'bcda', 'bdca', 'bdac', 'cbad', 'cbda', 'cabd', 'cadb', 'cdab', 'cdba', 'dbca', 'dbac', 'dcba', 'dcab', 'dacb', 'dabc']\n"
     ]
    }
   ],
   "source": [
    "# s[0]依次在不同位置\n",
    "def permutation(S: str):\n",
    "    if len(S) == 0:\n",
    "        return ['']\n",
    "    ans = [S[0] + t for t in permutation(S[1:])]\n",
    "    for i in range(1, len(S)):\n",
    "        if S[i] not in S[:i]:\n",
    "            t = S[1:i]+S[0]+S[i+1:]\n",
    "            ans += [S[i] + k for k in permutation(t)]\n",
    "    return ans\n",
    "print(permutation('abcd'))"
   ]
  },
  {
   "cell_type": "markdown",
   "metadata": {},
   "source": [
    "## 招商银行笔试 "
   ]
  },
  {
   "cell_type": "markdown",
   "metadata": {},
   "source": [
    "### 金字塔 dp "
   ]
  },
  {
   "cell_type": "code",
   "execution_count": 3,
   "metadata": {},
   "outputs": [
    {
     "name": "stdout",
     "output_type": "stream",
     "text": [
      "[[8], [11, 16], [8, 1, 0], [4, 7, 5, 4], [3, 5, 2, 6, 5]]\n",
      "[[8], [11, 16], [19, 17, 16], [23, 26, 22, 20], [26, 31, 28, 28, 25]]\n",
      "31\n"
     ]
    }
   ],
   "source": [
    "N = 5\n",
    "mat = [[8],[3,8],[8,1,0],[4,7,5,4],[3,5,2,6,5]]\n",
    "res = []\n",
    "mat[1][0] += mat[0][0]\n",
    "mat[1][1] += mat[0][0]\n",
    "print(mat)\n",
    "for i in range(2,N):\n",
    "    for j in range(i+1):\n",
    "        if j==0:\n",
    "            mat[i][j] += mat[i-1][j]\n",
    "        elif j== i:\n",
    "            mat[i][j] += mat[i-1][j-1] \n",
    "        else:\n",
    "            mat[i][j] = mat[i][j] + max(mat[i-1][j],mat[i-1][j-1])\n",
    "print(mat)\n",
    "print(max(mat[-1]))"
   ]
  },
  {
   "cell_type": "markdown",
   "metadata": {},
   "source": [
    "### 最多的减一、最少加一，目标是数组中至少有k个数相同 "
   ]
  },
  {
   "cell_type": "code",
   "execution_count": 51,
   "metadata": {},
   "outputs": [
    {
     "name": "stdout",
     "output_type": "stream",
     "text": [
      "6 5\n",
      "1 2 2 4 3 2\n",
      "[1, 2, 2, 2, 3, 4]\n",
      "{1: 1, 2: 3, 4: 1, 3: 1}\n",
      "3\n"
     ]
    }
   ],
   "source": [
    "n, k = list(map(int, input().split()))\n",
    "a = list(map(int, input().split()))\n",
    "dic = {}\n",
    "sum_a = [0]*(n+1)\n",
    "for i in a:\n",
    "    if i not in dic:\n",
    "        dic[i]=1\n",
    "    else:\n",
    "        dic[i]+=1\n",
    "a.sort()\n",
    "print(a)\n",
    "print(dic)\n",
    "for i in range(n):\n",
    "    sum_a[i+1] = sum_a[i]+a[i]\n",
    "ans1 = a[k-1]*k-sum_a[k]\n",
    "tem = k\n",
    "while(tem<n and a[tem]==a[k-1]):\n",
    "    tem += 1\n",
    "    ans1 -= 1\n",
    "ans2 = sum_a[n]-sum_a[n-k]-a[n-k]*k\n",
    "tem = n-k\n",
    "while(tem>0 and a[tem-1]==a[n-k]):\n",
    "    tem -= 1\n",
    "    ans2 -= 1\n",
    "print(min(ans1, ans2))"
   ]
  },
  {
   "cell_type": "markdown",
   "metadata": {},
   "source": [
    "### 新郎新娘换座位"
   ]
  },
  {
   "cell_type": "code",
   "execution_count": 48,
   "metadata": {},
   "outputs": [
    {
     "name": "stdout",
     "output_type": "stream",
     "text": [
      "2\n",
      "1 0 3 2\n",
      "[1, 0, 3, 2]\n",
      "{1: 0, 0: 1, 3: 2, 2: 3}\n",
      "0\n",
      "2\n",
      "0\n"
     ]
    }
   ],
   "source": [
    "n = int(input())*2\n",
    "a = list(map(int, input().split()))\n",
    "pos = {}\n",
    "for i in range(n):\n",
    "    pos[a[i]] = i\n",
    "res = 0\n",
    "for i in range(0,n,2):\n",
    "    print(i)\n",
    "    x = a[i]\n",
    "    if x%2!=0:\n",
    "        y = a[i]-1\n",
    "    else:\n",
    "        y = a[i]+1\n",
    "    if y!=a[i+1]:\n",
    "        res += 1\n",
    "        t = pos[y]\n",
    "        pos[a[i+1]] = t\n",
    "        a[t] = a[i+1]\n",
    "        a[i+1] = y\n",
    "        pos[y] = i+1\n",
    "print(res)"
   ]
  },
  {
   "cell_type": "code",
   "execution_count": 15,
   "metadata": {},
   "outputs": [
    {
     "data": {
      "text/plain": [
       "1"
      ]
     },
     "execution_count": 15,
     "metadata": {},
     "output_type": "execute_result"
    }
   ],
   "source": [
    "class Solution:\n",
    "    def numDupDigitsAtMostN(self, N: int) -> int:\n",
    "        return int(N-self.dp(N))\n",
    "    def A(self, m, n):\n",
    "        return self.fact(m)/self.fact(m-n)\n",
    "    \n",
    "    def fact(self, n):\n",
    "        if n==0 or n==1:\n",
    "            return 1\n",
    "        return n*self.fact(n-1)\n",
    "    \n",
    "    def dp(self, n):\n",
    "        total = 0\n",
    "        used = [0]*10\n",
    "        digits = str(n)[::-1]\n",
    "        k = len(digits)\n",
    "        for i in range(k-1,0,-1):\n",
    "            total += 9*self.A(9, i-1)\n",
    "        for i in range(k-1,-1,-1):\n",
    "            num = int(digits[i])\n",
    "            if i==k-1:\n",
    "                begin = 1\n",
    "            else:\n",
    "                begin = 0\n",
    "            for j in range(begin, num):\n",
    "                if used[j]!=0:\n",
    "                    continue\n",
    "                total += self.A(10-(k-i),i)\n",
    "            used[num]+=1\n",
    "            if used[num]>1:\n",
    "                break\n",
    "            if i==0:\n",
    "                total += 1\n",
    "        return total\n",
    "    \n",
    "solve = Solution()\n",
    "solve.numDupDigitsAtMostN(20)"
   ]
  },
  {
   "cell_type": "markdown",
   "metadata": {},
   "source": [
    "### 最长等差数列 "
   ]
  },
  {
   "cell_type": "code",
   "execution_count": 13,
   "metadata": {},
   "outputs": [
    {
     "name": "stdout",
     "output_type": "stream",
     "text": [
      "i: 1 j: 0 [{}, {-5: 2}, {}, {}, {}]\n",
      "i: 2 j: 1 [{}, {-5: 2}, {-2: 2, 3: 2}, {}, {}]\n",
      "i: 3 j: 2 [{}, {-5: 2}, {-2: 2, 3: 2}, {-7: 2, -2: 2, -5: 2}, {}]\n",
      "i: 4 j: 3 [{}, {-5: 2}, {-2: 2, 3: 2}, {-7: 2, -2: 2, -5: 2}, {1: 2, 6: 2, 3: 3, 8: 2}]\n",
      "3\n"
     ]
    }
   ],
   "source": [
    "A = [9,4,7,2,10]\n",
    "length = len(A)\n",
    "        # 边界条件\n",
    "dp = [{} for i in range(length)]\n",
    "res = 0\n",
    "for i in range(1, length):\n",
    "    for j in range(i):\n",
    "        dis = A[i] - A[j]\n",
    "        # 在前面的dp[j]中 用get()寻找dp中已有的数据。\n",
    "        # 如果没有，说明是基本状态，用1初始化，+1为2\n",
    "        if dis not in dp[j]:\n",
    "            x = 1\n",
    "        else:\n",
    "            x = dp[j][dis]\n",
    "        dp[i][dis] = x + 1\n",
    "    print(\"i:\",i,'j:',j,dp)\n",
    "    res = max(res, max(dp[i].values()))\n",
    "print(res)"
   ]
  },
  {
   "cell_type": "markdown",
   "metadata": {},
   "source": [
    "### 最长括号子串 "
   ]
  },
  {
   "cell_type": "code",
   "execution_count": 1,
   "metadata": {},
   "outputs": [
    {
     "name": "stdout",
     "output_type": "stream",
     "text": [
      "4\n"
     ]
    }
   ],
   "source": [
    "def longestValidParentheses(s: str) -> int:\n",
    "    n = len(s)\n",
    "    if n<2:\n",
    "        return 0\n",
    "    dp = [0]*n\n",
    "    for i in range(1,n):\n",
    "        if s[i]==')':\n",
    "            if s[i-1]=='(':\n",
    "                if i>=2:\n",
    "                    dp[i] = dp[i-2]+2\n",
    "                else:\n",
    "                    dp[i] = 2\n",
    "            elif (i-dp[i-1]>0 and s[i-dp[i-1]-1]=='('):\n",
    "                if i - dp[i - 1] - 2 >= 0 :\n",
    "                    dp[i]=dp[i - dp[i - 1] - 2] + dp[i-1]+2\n",
    "                else:\n",
    "                    dp[i] = dp[i-1]+2\n",
    "    return max(dp)\n",
    "print(longestValidParentheses(\")()())()()(\"))"
   ]
  },
  {
   "cell_type": "markdown",
   "metadata": {},
   "source": [
    "动态规划：  状态转移方程！！！！\n",
    "1、确定状态，也就是你的答案表是存什么答案的。\n",
    "2、确定状态转移方程，也就是怎么将你的答案表填满，换句话说，就是一些表达式。\n",
    "3、确定边界情况，什么情况下有可能越界，要单独判断考虑（有可能无边界情况）。"
   ]
  },
  {
   "cell_type": "code",
   "execution_count": 25,
   "metadata": {},
   "outputs": [
    {
     "name": "stdout",
     "output_type": "stream",
     "text": [
      "[[0, 1, 0]] 0\n",
      "[[1, 0, 1]] 2\n",
      "[[0, 2, 0]] 8\n",
      "12\n"
     ]
    }
   ],
   "source": [
    "def findPaths(m: int, n: int, N: int, i: int, j: int) -> int:\n",
    "    # 给定一个 m × n 的网格和一个球。球的起始坐标为 (i,j) \n",
    "    dp = [[0]*n for _ in range(m)]\n",
    "    dp[i][j] = 1\n",
    "    res = 0\n",
    "    dirs = [[0,1],[1,0],[-1,0],[0,-1]]\n",
    "    divider = 10**9+7\n",
    "    for k in range(N):\n",
    "        print(dp, res)\n",
    "        dp2 = [[0]*n for _ in range(m)]\n",
    "        for r in range(m):\n",
    "            for c in range(n):\n",
    "                for item in dirs:\n",
    "                    r0 = r + item[0]\n",
    "                    c0 = c + item[1]\n",
    "                    if r0>=0 and r0 < m and c0>=0 and c0 < n:\n",
    "                        dp2[r0][c0] = (dp[r][c] + dp2[r0][c0]) % divider\n",
    "                    else:\n",
    "                        res = (res + dp[r][c]) % divider\n",
    "        dp = dp2[:][:]\n",
    "    return res\n",
    "print(findPaths(1,3,3,0,1))"
   ]
  },
  {
   "cell_type": "code",
   "execution_count": 38,
   "metadata": {},
   "outputs": [
    {
     "name": "stdout",
     "output_type": "stream",
     "text": [
      "1\n"
     ]
    }
   ],
   "source": [
    "class Solution:\n",
    "    def removeBoxes(self, boxes) -> int:\n",
    "        memo = {}\n",
    "        # 已知boxes[l]有n个的情况下，boxes[l:r]能获得的最大积分\n",
    "        def dp(l, r, n):\n",
    "            nonlocal memo, boxes\n",
    "            if memo.get((l, r, n)):\n",
    "                return memo[(l, r, n)]\n",
    "            \n",
    "            # 只剩最后一个数字，直接结算\n",
    "            if l == r - 1:\n",
    "                return (n + 1) * (n + 1)\n",
    "            \n",
    "            # 发现邻居和自己相同，和他加一起结算\n",
    "            if boxes[l] == boxes[l + 1]:\n",
    "                return dp(l + 1, r, n + 1)\n",
    "            \n",
    "            # 先直接结算，之后再看有没有和自己一样的\n",
    "            res = (n + 1) * (n + 1) + dp(l + 1, r, 0)\n",
    "\n",
    "            # 已知下一个和自己不一样，从下下个开始找和自己一样的兄弟\n",
    "            for l2 in range(l + 2, r):\n",
    "                # 找到兄弟了\n",
    "                if boxes[l2] == boxes[l]:\n",
    "                    res = max(\n",
    "                        res,\n",
    "                        # 让自己的下一个到这个兄弟之前结算,\n",
    "                        # 然后让自己和兄弟加起来结算，\n",
    "                        # 然后取最大值\n",
    "                        dp(l + 1, l2, 0) + dp(l2, r, n + 1)\n",
    "                    )\n",
    "            memo[(l, r, n)] = res\n",
    "            return res\n",
    "        # 初始状态为 已知boxes[0]有0个的情况下， boxes[0:]能获得的最大积分\n",
    "        return dp(0, len(boxes), 0)\n",
    "s = Solution()\n",
    "s.removeBoxes([1, 3, 2, 2, 2, 3, 4, 3, 1])"
   ]
  },
  {
   "cell_type": "code",
   "execution_count": 59,
   "metadata": {},
   "outputs": [
    {
     "name": "stdout",
     "output_type": "stream",
     "text": [
      "[3, 1, 2, 5]\n",
      "[5, 1, 2, 3]\n"
     ]
    }
   ],
   "source": [
    "def nextPermutation(nums) -> None:\n",
    "    \"\"\"\n",
    "    Do not return anything, modify nums in-place instead.\n",
    "    \"\"\"\n",
    "    for i in range(len(nums)-1, 0, -1):\n",
    "        if nums[i] > nums[i-1]:\n",
    "            nums[i:] = sorted(nums[i:])\n",
    "            for j in range(i, len(nums)):\n",
    "                if nums[j] > nums[i-1]:\n",
    "                    nums[j], nums[i-1] = nums[i-1], nums[j]\n",
    "                    print(nums)\n",
    "                    break\n",
    "            return\n",
    "    nums.sort()\n",
    "nextPermutation([3,5,2,1])"
   ]
  },
  {
   "cell_type": "code",
   "execution_count": 61,
   "metadata": {},
   "outputs": [
    {
     "name": "stdout",
     "output_type": "stream",
     "text": [
      "7\n"
     ]
    }
   ],
   "source": [
    "def minPathSum(grid) -> int:\n",
    "    m = len(grid)\n",
    "    n = len(grid[0])\n",
    "    for i in range(1,n):\n",
    "        grid[0][i]+=grid[0][i-1]\n",
    "    for i in range(1,m):\n",
    "        grid[i][0]+=grid[i-1][0]\n",
    "    for i in range(1,m):\n",
    "        for j in range(1,n):\n",
    "            grid[i][j]+=min(grid[i][j-1], grid[i-1][j])\n",
    "    return grid[m-1][n-1]\n",
    "print(minPathSum([\n",
    "  [1,3,1],\n",
    "  [1,5,1],\n",
    "  [4,2,1]\n",
    "]))"
   ]
  },
  {
   "cell_type": "raw",
   "metadata": {},
   "source": [
    "动态规划分类：\n",
    "1、矩形 迷宫、裁剪、最短路径\n",
    "2、辅助数列 山峰数、柱状图最大面积"
   ]
  },
  {
   "cell_type": "code",
   "execution_count": 8,
   "metadata": {},
   "outputs": [
    {
     "name": "stdout",
     "output_type": "stream",
     "text": [
      "false\n"
     ]
    }
   ],
   "source": [
    "def makesquare(nums):\n",
    "    nums.sort()\n",
    "    sum_l = sum(nums)\n",
    "    if sum_l%4!=0:\n",
    "        return \"false\"\n",
    "    a = int(sum_l/4)\n",
    "    tem = 0\n",
    "    flag = 0\n",
    "    for i in range(len(nums)):\n",
    "        tem += nums[i]\n",
    "        if tem==a:\n",
    "            tem = 0\n",
    "            continue\n",
    "        elif tem>a:\n",
    "            flag = 1\n",
    "            return \"false\"\n",
    "    if flag==0:\n",
    "        return \"true\"\n",
    "print(makesquare([3,3,3,3,4]))"
   ]
  }
 ],
 "metadata": {
  "kernelspec": {
   "display_name": "Python 3",
   "language": "python",
   "name": "python3"
  },
  "language_info": {
   "codemirror_mode": {
    "name": "ipython",
    "version": 3
   },
   "file_extension": ".py",
   "mimetype": "text/x-python",
   "name": "python",
   "nbconvert_exporter": "python",
   "pygments_lexer": "ipython3",
   "version": "3.7.4"
  }
 },
 "nbformat": 4,
 "nbformat_minor": 2
}
