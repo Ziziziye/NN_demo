{
 "cells": [
  {
   "cell_type": "code",
   "execution_count": null,
   "metadata": {},
   "outputs": [],
   "source": [
    "def bag_pro(n):\n",
    "    weight = [1,2,5]\n",
    "    dp = [0]*(n+1)\n",
    "    dp[0] = 1\n",
    "    for i in range(3):\n",
    "        for j in range(weight[i], n+1):\n",
    "            dp[j] += dp[j-weight[i]]\n",
    "    return dp\n",
    "print(bag_pro(10))"
   ]
  },
  {
   "cell_type": "code",
   "execution_count": null,
   "metadata": {},
   "outputs": [],
   "source": [
    "def selectPresent(presentVolumn ):\n",
    "    m = len(presentVolumn)\n",
    "    n = len(presentVolumn[0])\n",
    "    res = [[0]*n for _ in range(m)]\n",
    "    res[0][0]=presentVolumn[0][0]\n",
    "    for i in range(1,n):\n",
    "        res[0][i] = res[0][i-1]+presentVolumn[0][i]\n",
    "    for i in range(1,m):\n",
    "        res[i][0] =res[i-1][0]+ presentVolumn[i][0]\n",
    "    for i in range(1, m):\n",
    "        for j in range(1, n):\n",
    "            res[i][j] += min(res[i][j-1],res[i-1][j],res[i-1][j-1])+ presentVolumn[i][j]\n",
    "    print(res)\n",
    "    return res[m-1][n-1]\n",
    "selectPresent([[1,2,3],[2,3,4]])"
   ]
  },
  {
   "cell_type": "code",
   "execution_count": null,
   "metadata": {},
   "outputs": [],
   "source": [
    "def maxPresent(presentVec ):\n",
    "    # write code here\n",
    "    sum_v = sum(presentVec)\n",
    "    value = sum_v //2 + 1\n",
    "    dp = [0]*value\n",
    "    for i in range(len(presentVec)):\n",
    "        for j in range(value-1, presentVec[i]-1, -1):\n",
    "            if dp[j - presentVec[i]]  + presentVec[i] > dp[j]:\n",
    "                dp[j] = dp[j - presentVec[i]]  + presentVec[i]\n",
    "    maxvalue = dp[value-1]\n",
    "    print(dp)\n",
    "    return abs(sum_v-2*maxvalue)\n",
    "maxPresent([1,3,5])"
   ]
  },
  {
   "cell_type": "code",
   "execution_count": null,
   "metadata": {},
   "outputs": [],
   "source": [
    "def cakeNumber(n ):\n",
    "    # write code here\n",
    "    ans = 1\n",
    "    i = 0\n",
    "    while(i < n-1):\n",
    "        ans = (ans+1)*3//2\n",
    "        i += 1\n",
    "        print(ans)\n",
    "    return ans\n",
    "cakeNumber(4)"
   ]
  },
  {
   "cell_type": "code",
   "execution_count": null,
   "metadata": {},
   "outputs": [],
   "source": [
    "def mountainSequence(numberList ):\n",
    "    # write code here\n",
    "    if not numberList:\n",
    "        return 0\n",
    "    n = len(numberList)\n",
    "    up = [1]*n\n",
    "    ## numberList中每个数作为递增子列的最后一位，该子序列长度\n",
    "    for i in range(n):\n",
    "        for j in range(i):\n",
    "            if numberList[j] < numberList[i] and up[i] < up[j]+1:\n",
    "                up[i] = up[j]+1\n",
    "    # 从右边开始，numberList中每个数作为递减数列的最后一位，该子列的长度\n",
    "    down = [1]*n\n",
    "    for i in range(n-1,-1,-1):\n",
    "        for j in range(n-1,i,-1):\n",
    "            if numberList[j] < numberList[i] and down[i] < down[j]+1:\n",
    "                down[i] = down[j]+1\n",
    "    ans = 0\n",
    "    print(down)\n",
    "    print(up)\n",
    "    for i in range(n):\n",
    "        ans = max(ans,up[i]+down[i]-1)\n",
    "    return ans\n",
    "print(mountainSequence([1,2,3,4,5,4]))"
   ]
  },
  {
   "cell_type": "code",
   "execution_count": 8,
   "metadata": {},
   "outputs": [
    {
     "name": "stdout",
     "output_type": "stream",
     "text": [
      "36\n"
     ]
    }
   ],
   "source": [
    "def calc(n, k ,a, w, c):\n",
    "    length = max(w)\n",
    "    f = [[0]*(length+3) for i in range(2)]\n",
    "    cur = 0\n",
    "    for i in range(length+1):\n",
    "        f[0][i] = k+1\n",
    "    for i in range(w[0]+1):\n",
    "        f[0][i] = abs(i - a[0])\n",
    "    for i in range(1, n):\n",
    "        cur ^= 1\n",
    "        for w_1 in range(w[i]+1):\n",
    "            f[cur][w_1] = k+1\n",
    "            for w_0 in range(max(0, w_1-c),min(w_1+c, w[i-1])+1):\n",
    "                f[cur][w_1] = min(f[cur][w_1], f[cur^1][w_0] + abs(w_1-a[i]))\n",
    "    res = k+1;\n",
    "    for i in range(w[n-1]+1):\n",
    "        res = min(res, f[cur][i])\n",
    "    return res;    \n",
    "\n",
    "def solve( n , k , a , w ):\n",
    "    l = 0\n",
    "    r = max(w)\n",
    "    while(l<r):\n",
    "        mid = (l+r) >> 1\n",
    "        if (calc(n, k, a, w, mid) > k):\n",
    "            l = mid + 1\n",
    "        else:\n",
    "            r = mid\n",
    "    return l*l\n",
    "n = 5\n",
    "k = 4\n",
    "a = [12,4,7,9,1]\n",
    "w = [15,15,15,15,15]\n",
    "print(solve(n, k, a, w))"
   ]
  },
  {
   "cell_type": "code",
   "execution_count": 21,
   "metadata": {},
   "outputs": [
    {
     "name": "stdout",
     "output_type": "stream",
     "text": [
      "6 6\n",
      "[0, 0, 5, 15, 33, 45]\n",
      "[300000000, 0, 0, 8, 24, 36]\n",
      "[300000000, 300000000, 0, 0, 13, 25]\n",
      "[300000000, 300000000, 300000000, 0, 0, 10]\n",
      "[300000000, 300000000, 300000000, 300000000, 0, 0]\n",
      "[300000000, 300000000, 300000000, 300000000, 300000000, 0]\n"
     ]
    },
    {
     "data": {
      "text/plain": [
       "45"
      ]
     },
     "execution_count": 21,
     "metadata": {},
     "output_type": "execute_result"
    }
   ],
   "source": [
    "def attackMonster( monsterLength , monsterPoint ):\n",
    "    # write code here\n",
    "    monsterPoint.sort()\n",
    "    monsterPoint = [0] + monsterPoint + [monsterLength]\n",
    "    dp = [[300000000 for j in range(len(monsterPoint))] for i in range(len(monsterPoint))]\n",
    "    print(len(dp),len(dp[0]))\n",
    "    for d in range(0, len(monsterPoint)):\n",
    "        for i in range(len(monsterPoint)-d):\n",
    "            # [i, j]区间切开\n",
    "            j = i + d\n",
    "            # 如果i， j为同一点或者相邻点，则不需要切\n",
    "            if d==0 or d==1:\n",
    "                dp[i][j] = 0\n",
    "            else:\n",
    "                temp = []\n",
    "                for k in range(i+1, j):\n",
    "                    temp.append(dp[i][k] + dp[k][j])\n",
    "                dp[i][j] = min(temp) + monsterPoint[j] - monsterPoint[i]\n",
    "    for i in range(len(monsterPoint)):\n",
    "        print(dp[i])\n",
    "    return dp[0][-1]\n",
    "\n",
    "attackMonster(20 , [2,5,10,18] )"
   ]
  },
  {
   "cell_type": "code",
   "execution_count": null,
   "metadata": {},
   "outputs": [],
   "source": [
    "def clothNumber( L , W , clothSize ):\n",
    "        # write code here\n",
    "        dp=[[0]*(W+1) for _ in range(L+1)]\n",
    "        if (len(clothSize)==0):\n",
    "            return 0\n",
    "        for l,w in clothSize:\n",
    "            for i in  range(1, L+1):\n",
    "                for j in range(1, W+1):\n",
    "                    if i-l>=0 and j-w >= 0:\n",
    "                        dp[i][j] = max(dp[i][j], dp[i - l][j] + dp[l][j - w] + 1, dp[i][j - w] + dp[i - l][w] + 1)\n",
    "                    if i-w>=0 and j-l>= 0:\n",
    "                        dp[i][j] = max(dp[i][j], dp[i - w][j] + dp[w][j - l] + 1, dp[i][j - l] + dp[i - w][l] + 1)\n",
    "        return dp[L][W]"
   ]
  },
  {
   "cell_type": "code",
   "execution_count": 59,
   "metadata": {},
   "outputs": [
    {
     "name": "stdout",
     "output_type": "stream",
     "text": [
      "5\n",
      "2 4 2 3 1\n",
      "{'1': [1], '2': [2], '3': [3], '4': [4], '5': [5]}\n",
      "3\n"
     ]
    }
   ],
   "source": [
    "def equal(dic):\n",
    "    for i in dic.keys():\n",
    "        if int(i) in dic[i]:\n",
    "            return True\n",
    "    return False\n",
    "def Change(dic, change, n):\n",
    "    dic_new = {}\n",
    "    for i in range(1,n+1):\n",
    "        dic_new[str(i)]=[]\n",
    "    for i in range(n):\n",
    "        dic_new[str(change[i])] += dic[str(i+1)]\n",
    "    return dic_new \n",
    "n = int(input().strip())\n",
    "change = list(map(int, input().split()))\n",
    "dic = {}\n",
    "k = 1\n",
    "## initial\n",
    "for i in range(1,n+1):\n",
    "    dic[str(i)] = [i]\n",
    "print(dic)\n",
    "# change one time\n",
    "dic = Change(dic, change, n)\n",
    "D = equal(dic)\n",
    "while not D:\n",
    "    k += 1\n",
    "    dic = Change(dic, change, n)\n",
    "    D = equal(dic)\n",
    "print(k)"
   ]
  },
  {
   "cell_type": "code",
   "execution_count": 66,
   "metadata": {},
   "outputs": [
    {
     "name": "stdout",
     "output_type": "stream",
     "text": [
      "16\n",
      "61 53 2 13 51 30 48 44 58 46 36 8 2 8 34 10\n",
      "7\n",
      "61 53 58 58 58 58 58 58 58 46\n"
     ]
    }
   ],
   "source": [
    "n = int(input().strip())\n",
    "L = list(map(int, input().split()))\n",
    "ks = int(input())\n",
    "res = []\n",
    "for i in range(n-ks+1):\n",
    "    tem = L[i] \n",
    "    for j in range(i+1, i+ks):\n",
    "        if L[j] > tem:\n",
    "            tem = L[j]\n",
    "    res.append(tem)\n",
    "print(' '.join(map(str,res)))"
   ]
  },
  {
   "cell_type": "markdown",
   "metadata": {},
   "source": [
    "### 72 编辑距离 "
   ]
  },
  {
   "cell_type": "raw",
   "metadata": {},
   "source": [
    "给你两个单词 word1 和 word2，请你计算出将 word1 转换成 word2 所使用的最少操作数 。\n",
    "\n",
    "你可以对一个单词进行如下三种操作：\n",
    "\n",
    "插入一个字符\n",
    "删除一个字符\n",
    "替换一个字符"
   ]
  },
  {
   "cell_type": "code",
   "execution_count": 4,
   "metadata": {},
   "outputs": [
    {
     "name": "stdout",
     "output_type": "stream",
     "text": [
      "3\n"
     ]
    }
   ],
   "source": [
    "# 动态规划\n",
    "word1 = 'horse'\n",
    "word2 = 'ros'\n",
    "n1 = len(word1)\n",
    "n2 = len(word2)\n",
    "dp = [[0]*(n2+1) for _ in range(n1+1)]\n",
    "for i in range(n1+1):\n",
    "    dp[i][0] = i\n",
    "for i in range(n2+1):\n",
    "    dp[0][i] = i\n",
    "for i in range(1,n1+1):\n",
    "    for j in range(1,n2+1):\n",
    "        if word1[i-1]==word2[j-1]:\n",
    "            dp[i][j]=dp[i-1][j-1]\n",
    "        else:\n",
    "            dp[i][j]=min(min(dp[i-1][j], dp[i][j-1]), dp[i-1][j-1])+1\n",
    "print(dp[-1][-1])"
   ]
  },
  {
   "cell_type": "code",
   "execution_count": 7,
   "metadata": {},
   "outputs": [
    {
     "data": {
      "text/plain": [
       "3"
      ]
     },
     "execution_count": 7,
     "metadata": {},
     "output_type": "execute_result"
    }
   ],
   "source": [
    "class Solution:\n",
    "    def minDistance(self, word1: str, word2: str) -> int:\n",
    "        m, n = len(word1), len(word2)\n",
    "        dp = [[-1] * (n + 1) for _ in range(m + 1)]\n",
    "\n",
    "        def dp_dist(i, j):\n",
    "            if dp[i][j] >= 0:\n",
    "                return dp[i][j]\n",
    "            if i * j == 0:\n",
    "                dp[i][j] = i + j          \n",
    "            elif word1[i - 1] == word2[j - 1]:\n",
    "                dp[i][j] = dp_dist(i - 1, j - 1)\n",
    "            else:\n",
    "                dp[i][j] = 1 + min(dp_dist(i - 1, j), dp_dist(i, j - 1), dp_dist(i - 1, j - 1))\n",
    "            return dp[i][j]\n",
    "        \n",
    "        return dp_dist(m, n)\n",
    "s = Solution()\n",
    "s.minDistance('horse', 'ros')"
   ]
  },
  {
   "cell_type": "code",
   "execution_count": null,
   "metadata": {},
   "outputs": [],
   "source": [
    "# DFS\n",
    "class Solution:\n",
    "    def minDistance(self, word1: str, word2: str) -> int:\n",
    "        m, n = len(word1), len(word2)\n",
    "        q, d, visited = [(0, 0)], 0, set((0, 0))\n",
    "        while True:\n",
    "            next = []\n",
    "            for (w1, w2) in q:\n",
    "                if word1[w1:] == word2[w2:]:\n",
    "                    return d\n",
    "                while w1 < m and w2 < n and word1[w1: w1 + 1] == word2[w2: w2 + 1]:\n",
    "                    w1 += 1\n",
    "                    w2 += 1\n",
    "                if w2 < n and (w1, w2 + 1) not in visited: \n",
    "                    next.append((w1, w2 + 1))\n",
    "                    visited.add((w1, w2 + 1))\n",
    "                if w1 < m and (w1 + 1, w2) not in visited: \n",
    "                    next.append((w1 + 1, w2)) \n",
    "                    visited.add((w1 + 1, w2))\n",
    "                if w1 < m and w2 < n and (w1 + 1, w2 + 1) not in visited: \n",
    "                    next.append((w1 + 1, w2 + 1)) \n",
    "                    visited.add((w1 + 1, w2 + 1))                 \n",
    "            q = next\n",
    "            d += 1"
   ]
  },
  {
   "cell_type": "markdown",
   "metadata": {},
   "source": [
    "### 84 柱状图最大面积"
   ]
  },
  {
   "cell_type": "code",
   "execution_count": 1,
   "metadata": {},
   "outputs": [
    {
     "name": "stdout",
     "output_type": "stream",
     "text": [
      "[-1, -1, 1, 2, 3, 1, 5]\n",
      "[1, 7, 5, 5, 5, 7, 7]\n",
      "12\n"
     ]
    }
   ],
   "source": [
    "class Solution:\n",
    "    def largestRectangleArea(self, heights) -> int:\n",
    "        if not heights:\n",
    "            return 0\n",
    "        n = len(heights)\n",
    "        left_i = [0] * n\n",
    "        right_i = [0] * n\n",
    "        left_i[0] = -1\n",
    "        right_i[-1] = n\n",
    "        # 左边第一个小于heights[i]的数\n",
    "        for i in range(1, n):\n",
    "            tmp = i - 1\n",
    "            while tmp >= 0 and heights[tmp] >= heights[i]:\n",
    "                tmp = left_i[tmp]\n",
    "            left_i[i] = tmp\n",
    "        print(left_i)\n",
    "        # 右边第一个小于heights[i]的数\n",
    "        for i in range(n - 2, -1, -1):\n",
    "            tmp = i + 1\n",
    "            while tmp < n and heights[tmp] >= heights[i]:\n",
    "                tmp = right_i[tmp]\n",
    "            right_i[i] = tmp\n",
    "        print(right_i)\n",
    "        res = 0\n",
    "        for i in range(n):\n",
    "            res = max(res, (right_i[i] - left_i[i] - 1) * heights[i])\n",
    "        return res\n",
    "s = Solution()\n",
    "print(s.largestRectangleArea([2,1,4,5,6,2,3]))"
   ]
  },
  {
   "cell_type": "markdown",
   "metadata": {},
   "source": [
    "### 85 最大矩形面积 "
   ]
  },
  {
   "cell_type": "code",
   "execution_count": 20,
   "metadata": {},
   "outputs": [
    {
     "data": {
      "text/plain": [
       "0"
      ]
     },
     "execution_count": 20,
     "metadata": {},
     "output_type": "execute_result"
    }
   ],
   "source": [
    "# 给定一个仅包含 0 和 1 的二维二进制矩阵，找出只包含 1 的最大矩形，并返回其面积。\n",
    "class Solution_85(Solution):\n",
    "    def maximalRectangle(self, matrix) -> int:\n",
    "        n = len(matrix)\n",
    "        if n==0:\n",
    "            return 0\n",
    "        m = len(matrix[0])\n",
    "        for i in range(m):\n",
    "            matrix[0][i] = int(matrix[0][i])\n",
    "        for i in range(1,n):\n",
    "            for j in range(m):\n",
    "                if matrix[i][j]=='1':\n",
    "                    matrix[i][j] = matrix[i-1][j]+1\n",
    "                else:\n",
    "                    matrix[i][j] = 0\n",
    "        print(matrix)\n",
    "        res = 0\n",
    "        for i in range(n):\n",
    "            res = max(res, self.largestRectangleArea(matrix[i]))\n",
    "        return res\n",
    "s_85 = Solution_85()\n",
    "s_85.maximalRectangle(\n",
    "  [])"
   ]
  },
  {
   "cell_type": "code",
   "execution_count": 45,
   "metadata": {},
   "outputs": [
    {
     "name": "stdout",
     "output_type": "stream",
     "text": [
      "[[0, 0, 0]]\n"
     ]
    }
   ],
   "source": [
    "def threeSum(nums):\n",
    "    n=len(nums)\n",
    "    res=[]\n",
    "    if(not nums or n<3):\n",
    "        return []\n",
    "    nums.sort()\n",
    "    res=[]\n",
    "    for i in range(n):\n",
    "        if(nums[i]>0):\n",
    "            return res\n",
    "        if(i>0 and nums[i]==nums[i-1]):\n",
    "            continue\n",
    "        L=i+1\n",
    "        R=n-1\n",
    "        while(L<R):\n",
    "            if(nums[i]+nums[L]+nums[R]==0):\n",
    "                res.append([nums[i],nums[L],nums[R]])\n",
    "                while(L<R and nums[L]==nums[L+1]):\n",
    "                    L=L+1\n",
    "                while(L<R and nums[R]==nums[R-1]):\n",
    "                    R=R-1\n",
    "                L=L+1\n",
    "                R=R-1\n",
    "            elif(nums[i]+nums[L]+nums[R]>0):\n",
    "                R=R-1\n",
    "            else:\n",
    "                L=L+1\n",
    "    return res\n",
    "\n",
    "print(threeSum([0,0,0,0,0,0]))"
   ]
  },
  {
   "cell_type": "markdown",
   "metadata": {},
   "source": [
    "### 任意正整数 n，请寻找并输出最小的正整数 m（m>9），使得 m 的各位之乘积等于n，若不存在则输出 -1。"
   ]
  },
  {
   "cell_type": "code",
   "execution_count": 5,
   "metadata": {},
   "outputs": [
    {
     "name": "stdout",
     "output_type": "stream",
     "text": [
      "108\n",
      "269\n"
     ]
    }
   ],
   "source": [
    "n = int(input())\n",
    "tem = [9,8,7,6,5,4,3,2]\n",
    "res = []\n",
    "while(n>9):\n",
    "    flag = 0\n",
    "    for i in range(8):\n",
    "        if n%tem[i]==0:\n",
    "            res.append(tem[i])\n",
    "            n = int(n/tem[i])\n",
    "            flag = 1\n",
    "            break\n",
    "    if flag==0:\n",
    "        break\n",
    "res.append(n)\n",
    "if flag==0:\n",
    "    print(-1)\n",
    "else:\n",
    "    res.sort()\n",
    "    print(''.join(map(str, res)))"
   ]
  },
  {
   "cell_type": "code",
   "execution_count": 9,
   "metadata": {},
   "outputs": [
    {
     "name": "stdout",
     "output_type": "stream",
     "text": [
      "[0, 9, 56, 320, 1624, 7152, 26016, 72912, 140704, 140704]\n"
     ]
    }
   ],
   "source": [
    "# Python3 dfs\n",
    "# 所有方向\n",
    "di = [(1,0), (-1,0), (0,1), (0,-1), (1,1), (-1,-1), (1,-1), (-1,1), (1,2), (1,-2), (-1,2), (-1,-2), (2,1), (2,-1),(-2,1),(-2,-1)]\n",
    "# 可跨一个点的方向\n",
    "ds = [(1,0), (-1,0), (0,1), (0,-1), (1,1), (-1,-1), (1,-1), (-1,1)]\n",
    "# 9个点\n",
    "nodes = {(0,0), (0,1), (0,2), (1,0), (1,1), (1,2), (2,0), (2,1), (2,2)}\n",
    "# visited set —— add， remove\n",
    "def dfs(x, y, visited, count):\n",
    "    visited.add((x, y))\n",
    "    count -= 1\n",
    "    ans = 0\n",
    "    if count == 0:\n",
    "        ans += 1\n",
    "    else:\n",
    "        for d in di:\n",
    "            if (x+d[0], y+d[1]) in visited or (x+d[0], y+d[1]) not in nodes:\n",
    "                if d not in ds:\n",
    "                    continue\n",
    "                else:\n",
    "                    dx = d[0] * 2\n",
    "                    dy = d[1] * 2\n",
    "                    if (x+dx, y+dy) in nodes and (x+dx, y+dy) not in visited:\n",
    "                        ans += dfs(x+dx, y+dy, visited, count)                       \n",
    "            else:\n",
    "                ans += dfs(x+d[0], y+d[1], visited, count)\n",
    "    visited.remove((x, y))\n",
    "    return ans\n",
    " \n",
    "ans = [0] * 10\n",
    "for count in range(1, 10):\n",
    "    for i in range(3):\n",
    "        for j in range(3):\n",
    "            visited = set()\n",
    "            ans[count] += dfs(i, j, visited, count)\n",
    "# ans[i]即为i个键的结果数\n",
    "# ans = [0, 9, 56, 320, 1624, 7152, 26016, 72912, 140704, 140704]\n",
    "print(ans)"
   ]
  },
  {
   "cell_type": "markdown",
   "metadata": {},
   "source": [
    "### 1024 视频拼接 "
   ]
  },
  {
   "cell_type": "code",
   "execution_count": null,
   "metadata": {},
   "outputs": [],
   "source": [
    "T = int(input())\n",
    "clips = [[0,2],[4,6],[8,10],[1,9],[1,5],[5,9]]\n",
    "def videoStitching(clips, T):\n",
    "    n = len(clips)\n",
    "    clips = sorted(clips, key = lambda x:x[0])    \n",
    "    print(clips)\n",
    "    clips = sorted(clips)\n",
    "    print(clips)\n",
    "    res = last_end = j = 0\n",
    "    for i in range(n):\n",
    "        if last_end >= T: break\n",
    "        maxLength = last_end \n",
    "        while (j < n and clips[j][0] <= last_end):  #  贪心地寻找能够overlap的区间中找最长的\n",
    "            maxLength = max(maxLength, clips[j][1])\n",
    "            print((i,j), 'max', maxLength)\n",
    "            j+=1\n",
    "        if (j == i): return -1  # 找不到可选区间\n",
    "        last_end = maxLength\n",
    "#         i = j - 1\n",
    "        res += 1 \n",
    "    return -1 if last_end < T else res\n",
    "print(videoStitching(clips, T))"
   ]
  },
  {
   "cell_type": "code",
   "execution_count": null,
   "metadata": {},
   "outputs": [],
   "source": []
  }
 ],
 "metadata": {
  "kernelspec": {
   "display_name": "Python 3",
   "language": "python",
   "name": "python3"
  },
  "language_info": {
   "codemirror_mode": {
    "name": "ipython",
    "version": 3
   },
   "file_extension": ".py",
   "mimetype": "text/x-python",
   "name": "python",
   "nbconvert_exporter": "python",
   "pygments_lexer": "ipython3",
   "version": "3.7.4"
  }
 },
 "nbformat": 4,
 "nbformat_minor": 2
}
