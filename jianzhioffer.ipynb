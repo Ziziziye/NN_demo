{
 "cells": [
  {
   "cell_type": "code",
   "execution_count": 2,
   "metadata": {},
   "outputs": [
    {
     "name": "stdout",
     "output_type": "stream",
     "text": [
      "<__main__.TreeNode object at 0x000000E92646B388>\n"
     ]
    }
   ],
   "source": [
    "class TreeNode:\n",
    "    def __init__(self, x):\n",
    "        self.val = x\n",
    "        self.left = None\n",
    "        self.right = None\n",
    "        \n",
    "        \n",
    "class Solution:\n",
    "    # 返回构造的TreeNode根节点\n",
    "    def reConstructBinaryTree(self, pre, tin):\n",
    "        # write code here\n",
    "        if not pre or not tin:\n",
    "            return None\n",
    "        root = TreeNode(pre.pop(0))\n",
    "        index = tin.index(root.val)\n",
    "        root.left = self.reConstructBinaryTree(pre, tin[:index])\n",
    "        root.right = self.reConstructBinaryTree(pre, tin[index + 1:])\n",
    "        return root\n",
    "    # 递归法，pre.pop(0)(delete the first number, root) as the root，find the index of the root in tin, then the left tree is tin[:,index],\n",
    "    # the right tree is tin[index+1,:]\n",
    "    \n",
    "so = Solution()\n",
    "print(so.reConstructBinaryTree([1,2,4,7,3,5,6,8],[4,7,2,1,5,3,8,6]))"
   ]
  },
  {
   "cell_type": "code",
   "execution_count": 6,
   "metadata": {},
   "outputs": [
    {
     "name": "stdout",
     "output_type": "stream",
     "text": [
      "5\n"
     ]
    }
   ],
   "source": [
    "# 斐波那契数列，跳台阶本质是斐波那契数列，f(n)=f(n-1)+f(n-2),f(1)=1,f(2)=2\n",
    "def jumpFloor(number):\n",
    "    # write code here \n",
    "    num = 0\n",
    "    if number==1:\n",
    "        num = 1\n",
    "    elif number==2:\n",
    "        num = 2\n",
    "    else:\n",
    "        num = num + jumpFloor(number-1)+ jumpFloor(number-2)\n",
    "    return num\n",
    "print(jumpFloor(4))"
   ]
  },
  {
   "cell_type": "code",
   "execution_count": 7,
   "metadata": {},
   "outputs": [
    {
     "name": "stdout",
     "output_type": "stream",
     "text": [
      "5\n"
     ]
    }
   ],
   "source": [
    "def jumpFloor1(number):\n",
    "    # write code here \n",
    "    # Fibonacci\n",
    "    num0=0\n",
    "    num1=1\n",
    "    if number==1:\n",
    "        num = 1\n",
    "    else:\n",
    "        for i in range(number):\n",
    "            num = num0+num1\n",
    "            num0 = num1\n",
    "            num1 = num\n",
    "    return num\n",
    "\n",
    "print(jumpFloor1(4))\n"
   ]
  },
  {
   "cell_type": "code",
   "execution_count": 6,
   "metadata": {},
   "outputs": [
    {
     "name": "stdout",
     "output_type": "stream",
     "text": [
      "22\n"
     ]
    }
   ],
   "source": [
    "# 求负整数的补码，将其原码除符号位外的所有位取反（0变1，1变0，符号位为1不变）后加1\n",
    "def NumberOf1(n):\n",
    "    if n<0:\n",
    "        n = n & 0xffffffff  #如果为负数，消除补码影响\n",
    "    num=0\n",
    "    while(n):\n",
    "        if n%2==1:\n",
    "            num = num+1\n",
    "        n=int(n/2)   \n",
    "    return num\n",
    "\n",
    "\n",
    "print(NumberOf1(-1024))"
   ]
  },
  {
   "cell_type": "code",
   "execution_count": 22,
   "metadata": {},
   "outputs": [
    {
     "name": "stdout",
     "output_type": "stream",
     "text": [
      "22\n"
     ]
    }
   ],
   "source": [
    "def NumberOf1(n):\n",
    "    # write code here\n",
    "    count = 0\n",
    "    if n < 0:\n",
    "        n = n & 0xffffffff\n",
    "    while n:   # 与运算，1的计数，每次消去一位1\n",
    "        count += 1\n",
    "        n = (n - 1) & n\n",
    "    return count\n",
    "\n",
    "print(NumberOf1(-1024))"
   ]
  },
  {
   "cell_type": "code",
   "execution_count": 8,
   "metadata": {},
   "outputs": [
    {
     "name": "stdout",
     "output_type": "stream",
     "text": [
      "255\n",
      "256\n",
      "-0b111 0b111\n"
     ]
    }
   ],
   "source": [
    "print(0xff)\n",
    "print(2**8)\n",
    "print(bin(-7),bin(7))"
   ]
  },
  {
   "cell_type": "code",
   "execution_count": 20,
   "metadata": {},
   "outputs": [
    {
     "name": "stdout",
     "output_type": "stream",
     "text": [
      "[7, 1, 2, 3, 4, 5, 6]\n",
      "[7, 1, 2, 3, 4, 5, 6]\n",
      "[5, 7, 1, 2, 3, 4, 6]\n",
      "[5, 7, 1, 2, 3, 4, 6]\n",
      "[3, 5, 7, 1, 2, 4, 6]\n",
      "[3, 5, 7, 1, 2, 4, 6]\n",
      "[1, 3, 5, 7, 2, 4, 6]\n",
      "[1, 3, 5, 7, 2, 4, 6]\n"
     ]
    }
   ],
   "source": [
    "def reOrderArray(array):\n",
    "    # write code here8\n",
    "    count=0\n",
    "    L=len(array)\n",
    "    for i in range (L,0,-1):\n",
    "        if array[count-1]%2:\n",
    "            array.insert(0,array[count-1])\n",
    "            del array[count-1]\n",
    "        else:\n",
    "            count=count-1\n",
    "        print(array)\n",
    "    return array\n",
    "print(reOrderArray([1,2,3,4,5,6,7]))"
   ]
  },
  {
   "cell_type": "code",
   "execution_count": 24,
   "metadata": {},
   "outputs": [],
   "source": [
    "def ReverseList(pHead):\n",
    "    # write code here\n",
    "    if pHead==None or pHead.next == None:\n",
    "        return pHead\n",
    "    p1 = pHead\n",
    "    head = pHead\n",
    "    p2 = None\n",
    "    while(p1.next!=None):\n",
    "        head.next = p2\n",
    "        p2 = p1\n",
    "        p1=p1.next\n",
    "        head = p1\n",
    "    return head"
   ]
  },
  {
   "cell_type": "code",
   "execution_count": 5,
   "metadata": {},
   "outputs": [
    {
     "name": "stdout",
     "output_type": "stream",
     "text": [
      "[6, 5, 4]\n",
      "[1, 2, 3]\n",
      "[1, 2, 3]\n"
     ]
    }
   ],
   "source": [
    "def printMatrix(matrix):\n",
    "    # write code here\n",
    "    res = []\n",
    "    while matrix:\n",
    "        res += matrix.pop(0)\n",
    "        if matrix and matrix[0]:\n",
    "            for row in matrix:\n",
    "                res.append(row.pop())\n",
    "        if matrix:\n",
    "            res+=matrix.pop()[::-1]\n",
    "        if matrix and matrix[0]:\n",
    "            for row in matrix[::-1]:\n",
    "                res.append(row.pop(0))\n",
    "    return res                \n",
    "         \n",
    "\n",
    "\n",
    "ma = [[1,2,3],[4,5,6]]\n",
    "print(ma.pop()[::-1])\n",
    "for row in ma:\n",
    "    print(row)\n",
    "print(ma.pop(0))"
   ]
  },
  {
   "cell_type": "code",
   "execution_count": 16,
   "metadata": {},
   "outputs": [
    {
     "name": "stdout",
     "output_type": "stream",
     "text": [
      "0\n",
      "3\n"
     ]
    }
   ],
   "source": [
    "class Solution:\n",
    "    def __init__(self):\n",
    "        self.arr=[]\n",
    "    def push(self, node):\n",
    "        # write code here\n",
    "        return self.arr.append(node)\n",
    "    def pop(self):\n",
    "        # write code here\n",
    "        return self.arr.pop()\n",
    "    def top(self):\n",
    "        # write code here\n",
    "        return self.arr.pop(0)\n",
    "    def min(self):\n",
    "        # write code here\n",
    "        return min(self.arr)\n",
    "    \n",
    "arr = Solution()\n",
    "arr.push(2)\n",
    "arr.push(0)\n",
    "print(arr.min())\n",
    "s=[1,2,3,4]\n",
    "print(s.index(4))"
   ]
  },
  {
   "cell_type": "code",
   "execution_count": 20,
   "metadata": {},
   "outputs": [
    {
     "name": "stdout",
     "output_type": "stream",
     "text": [
      "[1, 2, 3]\n",
      "[1, 2, 3]\n",
      "[1, 2]\n",
      "[1]\n",
      "True\n"
     ]
    }
   ],
   "source": [
    "def IsPopOrder(pushV, popV):\n",
    "    # write code here\n",
    "    tem = []\n",
    "    if len(pushV)!=len(popV):\n",
    "        res = False\n",
    "    for i in range(len(pushV)):\n",
    "        tem.append(pushV[i])\n",
    "        if tem[-1] == popV[0]:\n",
    "            tem.pop()\n",
    "            popV.pop(0)\n",
    "            continue\n",
    "    flag=1\n",
    "    print(tem)\n",
    "    while(tem!=[]):\n",
    "        print(tem)\n",
    "        if tem.pop() != popV.pop(0):\n",
    "            flag = 0\n",
    "            return False\n",
    "    if flag==1:\n",
    "        return True\n",
    "pushV=[1,2,3,4,5]\n",
    "popV=[4,5,3,2,1]\n",
    "print(IsPopOrder(pushV, popV))"
   ]
  },
  {
   "cell_type": "code",
   "execution_count": 29,
   "metadata": {},
   "outputs": [
    {
     "name": "stdout",
     "output_type": "stream",
     "text": [
      "[]\n",
      "[5, 4, 3, 2]\n",
      "False\n"
     ]
    }
   ],
   "source": [
    "class Solution:\n",
    "    # 返回二维列表，内部每个列表表示找到的路径\n",
    "    # 类的属性sums\n",
    "    def FindPath(self, root, expectNumber):\n",
    "        # write code here\n",
    "        result = []\n",
    "        if root == None:\n",
    "            return result\n",
    "        self.sums = expectNumber\n",
    "        self.DFS(root, result, [root.val])\n",
    "        return result\n",
    "    def DFS(self, root, result, path):\n",
    "        if root.left == None and root.right == None and sum(path) == self.sums:\n",
    "            result.append(path)\n",
    "        if root.left != None:\n",
    "            self.DFS(root.left, result, path+[root.left.val])\n",
    "        if root.right != None:\n",
    "            self.DFS(root.right, result, path+[root.right.val])"
   ]
  },
  {
   "cell_type": "code",
   "execution_count": null,
   "metadata": {},
   "outputs": [],
   "source": [
    "class Solution:\n",
    "    # 本质二叉树的中序遍历\n",
    "    def Convert(self, pRootOfTree):\n",
    "        # write code here\n",
    "        if pRootOfTree == None:\n",
    "            return None\n",
    "        if pRootOfTree.left == None and pRootOfTree.right == None:\n",
    "            return pRootOfTree\n",
    "        left = self.Convert(pRootOfTree.left)\n",
    "        p = left\n",
    "        while left and p.right:\n",
    "            p = p.right\n",
    "        if left:\n",
    "            p.right = pRootOfTree\n",
    "            pRootOfTree.left = p\n",
    "        right = self.Convert(pRootOfTree.right)\n",
    "        if right:\n",
    "            right.left = pRootOfTree\n",
    "            pRootOfTree.right = right\n",
    "        if left:\n",
    "            return left\n",
    "        else:\n",
    "            return pRootOfTree"
   ]
  },
  {
   "cell_type": "code",
   "execution_count": 9,
   "metadata": {},
   "outputs": [
    {
     "name": "stdout",
     "output_type": "stream",
     "text": [
      "['abc', 'acb', 'bac', 'bca', 'cab', 'cba']\n"
     ]
    }
   ],
   "source": [
    "def Permutation(ss):\n",
    "    if len(ss) <= 1:\n",
    "        return ss\n",
    "    res = set()\n",
    "    # 遍历字符串，固定第一个元素，第一个元素可以取a,b,c...，然后递归求解\n",
    "    for i in range(len(ss)):\n",
    "        for j in Permutation(ss[:i] + ss[i+1:]): # 依次固定了元素，其他的全排列（递归求解）\n",
    "            res.add(ss[i] + j) # 集合添加元素的方法add(),集合添加去重（若存在重复字符，排列后会存在相同，如baa,baa）\n",
    "    return sorted(res)         # sorted()能对可迭代对象进行排序,结果返回一个新的list\n",
    "print(Permutation('abc'))          "
   ]
  },
  {
   "cell_type": "code",
   "execution_count": 12,
   "metadata": {},
   "outputs": [
    {
     "name": "stdout",
     "output_type": "stream",
     "text": [
      "2\n"
     ]
    }
   ],
   "source": [
    "def MoreThanHalfNum_Solution(numbers):\n",
    "    # write code here\n",
    "    L = len(numbers)\n",
    "    S = set(numbers)\n",
    "    flag = 1\n",
    "    for i in S:\n",
    "        count = 0\n",
    "        for j in numbers:\n",
    "            if i == j:\n",
    "                count += 1\n",
    "        if count > L/2:\n",
    "            flag = 0\n",
    "            return i\n",
    "    if flag == 1:\n",
    "        return 0\n",
    "print(MoreThanHalfNum_Solution([1,2,2,2,3]))"
   ]
  },
  {
   "cell_type": "code",
   "execution_count": 19,
   "metadata": {},
   "outputs": [
    {
     "name": "stdout",
     "output_type": "stream",
     "text": [
      "[-2]\n",
      "[-2, -8]\n",
      "[-2, -8, -1]\n",
      "[-2, -8, -1, -5]\n",
      "[-8]\n",
      "[-8, -1]\n",
      "[-8, -1, -5]\n",
      "[-1]\n",
      "[-1, -5]\n",
      "[-5]\n",
      "-1\n",
      "5\n"
     ]
    }
   ],
   "source": [
    "# O(n^2) 复杂度\n",
    "def FindGreatestSumOfSubArray(array):\n",
    "    # write code here\n",
    "    sums = sum(array)\n",
    "    for i in range(len(array)):\n",
    "        for j in range(i+1,len(array)):\n",
    "            if sum(array[i:j]) > sums:\n",
    "                sums = sum(array[i:j])\n",
    "    return sums\n",
    "\n",
    "# 动态规划\n",
    "def FindGreatestSumOfSubArray(array):\n",
    "    if not array:\n",
    "        return 0\n",
    "\n",
    "    dp = [array[0]]\n",
    "\n",
    "    i = 1\n",
    "    for num in array[1:]:\n",
    "        if dp[i - 1] <= 0:\n",
    "            dp.append(num)\n",
    "        else:\n",
    "            dp.append(dp[i - 1] + num)\n",
    "        i += 1\n",
    "\n",
    "    return max(dp)"
   ]
  },
  {
   "cell_type": "code",
   "execution_count": 85,
   "metadata": {},
   "outputs": [
    {
     "name": "stdout",
     "output_type": "stream",
     "text": [
      "4001\n"
     ]
    }
   ],
   "source": [
    "def NumberOf1Between1AndN_Solution(n):\n",
    "    if n < 1:\n",
    "        return 0\n",
    "    if n < 1:\n",
    "        return 0\n",
    "    res = 0\n",
    "    exponent = 0\n",
    "    while(10**exponent <= n):\n",
    "        a = int(n/10**exponent) \n",
    "        b = n % (10**exponent)\n",
    "        if a % 10 == 1:\n",
    "            res += int((a+8)/10)*10**exponent + b+1\n",
    "        else:\n",
    "            res += int((a+8)/10)*10**exponent\n",
    "        exponent += 1\n",
    "    return res\n",
    "print(NumberOf1Between1AndN_Solution(10000))"
   ]
  },
  {
   "cell_type": "code",
   "execution_count": 4,
   "metadata": {},
   "outputs": [
    {
     "name": "stdout",
     "output_type": "stream",
     "text": [
      "112123\n"
     ]
    }
   ],
   "source": [
    "def PrintMinNumber(numbers):\n",
    "    # write code here\n",
    "    res = ''\n",
    "    for i in range(len(numbers)):\n",
    "        for j in range(len(numbers)-1):\n",
    "            if Compare(numbers[i], numbers[j]) == -1:\n",
    "                temp = numbers[i]\n",
    "                numbers[i] = numbers[j]\n",
    "                numbers[j] = temp\n",
    "    for i in range(len(numbers)):\n",
    "        res += str(numbers[i])\n",
    "    return int(res)\n",
    "                \n",
    "def Compare(num1, num2):\n",
    "    N_1 = str(num1)\n",
    "    N_2 = str(num2)\n",
    "    if N_1+N_2 > N_2+N_1:\n",
    "        return 1\n",
    "    elif N_1+N_2 == N_2+N_1:\n",
    "        return 0\n",
    "    else:\n",
    "        return -1\n",
    "    \n",
    "numbers = [1,12,123]\n",
    "print(PrintMinNumber(numbers))"
   ]
  },
  {
   "cell_type": "code",
   "execution_count": 39,
   "metadata": {},
   "outputs": [
    {
     "name": "stdout",
     "output_type": "stream",
     "text": [
      "15\n"
     ]
    }
   ],
   "source": [
    "def GetUglyNumber_Solution(index):\n",
    "    # write code here\n",
    "    array_2 = {2}\n",
    "    array_3 = {3}\n",
    "    array_5 = {5}\n",
    "    res = [1]\n",
    "    for count in range(index-1): \n",
    "        x = min(min(array_2),min(array_3),min(array_5))\n",
    "        res.append(x)\n",
    "        if x in array_2:\n",
    "            array_2.discard(x)\n",
    "            array_2.add(x*2)\n",
    "            array_2.add(x*3)\n",
    "            array_2.add(x*5)\n",
    "        if x in array_3:\n",
    "            array_3.discard(x)\n",
    "            array_3.add(x*3)\n",
    "            array_3.add(x*5)\n",
    "        if x in array_5:\n",
    "            array_5.discard(x)\n",
    "            array_5.add(x*5)\n",
    "        count = count + 1\n",
    "    return res.pop()\n",
    "print(GetUglyNumber_Solution(11))"
   ]
  },
  {
   "cell_type": "code",
   "execution_count": 74,
   "metadata": {},
   "outputs": [
    {
     "name": "stdout",
     "output_type": "stream",
     "text": [
      "5\n"
     ]
    }
   ],
   "source": [
    "def FirstNotRepeatingChar(s):\n",
    "    # write code here\n",
    "    if len(s)<0:\n",
    "        return -1\n",
    "    for i in s:\n",
    "        if s.count(i)==1:\n",
    "            return s.index(i)\n",
    "            break\n",
    "    return -1\n",
    "print(FirstNotRepeatingChar('googgle'))"
   ]
  },
  {
   "cell_type": "code",
   "execution_count": 75,
   "metadata": {},
   "outputs": [],
   "source": [
    "def FirstNotRepeatingChar(s):\n",
    "#建立哈希表,字符长度为8的数据类型,共有256种可能,于是创建一个长度为256的列表\n",
    "    ls=[0]*256\n",
    "    #遍历字符串,下标为ASCII值,值为次数\n",
    "    for i in s:\n",
    "        ls[ord(i)]+=1\n",
    "    #遍历列表,找到出现次数为1的字符并输出位置\n",
    "    for j in s:\n",
    "        if ls[ord(j)]==1:\n",
    "            return s.index(j)\n",
    "            break\n",
    "    return -1"
   ]
  },
  {
   "cell_type": "code",
   "execution_count": 1,
   "metadata": {},
   "outputs": [
    {
     "name": "stdout",
     "output_type": "stream",
     "text": [
      "7\n"
     ]
    }
   ],
   "source": [
    "def InversePairs(data):\n",
    "    # write code here\n",
    "    count = 0\n",
    "    for i in range(len(data)-1):\n",
    "        for j in range(i,len(data)):\n",
    "            if data[i]>data[j]:\n",
    "                count += 1\n",
    "    return count%1000000007\n",
    "print(InversePairs([1,2,3,4,5,6,7,0]))"
   ]
  },
  {
   "cell_type": "code",
   "execution_count": 8,
   "metadata": {},
   "outputs": [
    {
     "name": "stdout",
     "output_type": "stream",
     "text": [
      "[1 2]\n",
      "tensor([[1, 2],\n",
      "        [3, 4]], dtype=torch.int32)\n"
     ]
    }
   ],
   "source": [
    "import numpy as np\n",
    "import torch\n",
    "\n",
    "a = np.array([[1,2],[3,4]])\n",
    "print(np.array([1,2]))\n",
    "print(torch.from_numpy(a))"
   ]
  },
  {
   "cell_type": "code",
   "execution_count": 11,
   "metadata": {},
   "outputs": [
    {
     "name": "stdout",
     "output_type": "stream",
     "text": [
      "True\n"
     ]
    }
   ],
   "source": [
    "def hasPath(matrix, rows, cols, path):\n",
    "    # write code here\n",
    "    flag = 1\n",
    "    for i in range(rows):\n",
    "        for j in range(cols):\n",
    "            if matrix[i*cols+j] == path[0]:\n",
    "                if find(list(matrix),rows,cols,path[1:],i,j):\n",
    "                    flag = 0\n",
    "                    return True\n",
    "    if flag == 1:\n",
    "        return False\n",
    "def find(matrix,rows,cols,p,i,j):\n",
    "    res = False\n",
    "    if not p:\n",
    "        return True\n",
    "    matrix[i*cols+j]='0'\n",
    "    if j+1<cols and matrix[i*cols+j+1]==p[0]:\n",
    "        res = res or find(matrix,rows,cols,p[1:],i,j+1)\n",
    "    if j-1>=0 and matrix[i*cols+j-1]==p[0]:\n",
    "        res = res or find(matrix,rows,cols,p[1:],i,j-1)\n",
    "    if i-1>=0 and matrix[(i-1)*cols+j]==p[0]:\n",
    "        res = res or find(matrix,rows,cols,p[1:],i-1,j)\n",
    "    if i+1<rows and matrix[(i+1)*cols+j]==p[0]:\n",
    "        res = res or find(matrix,rows,cols,p[1:],i+1,j)\n",
    "    return res\n",
    "matrix = \"ABCESFCSADEE\"\n",
    "rows = 3\n",
    "cols = 4\n",
    "path = 'SEC'\n",
    "print(hasPath(matrix, rows, cols, path))"
   ]
  },
  {
   "cell_type": "code",
   "execution_count": 15,
   "metadata": {},
   "outputs": [
    {
     "name": "stdout",
     "output_type": "stream",
     "text": [
      "1 1\n",
      "4\n"
     ]
    }
   ],
   "source": [
    " def cutRope(number):\n",
    "        # write code here\n",
    "        if number == 2:\n",
    "            return 1\n",
    "        if number == 3:\n",
    "            return 2\n",
    "        x = number % 3\n",
    "        y = number // 3\n",
    "        print(x,y)\n",
    "        if x==0:\n",
    "            return 3**y\n",
    "        if x==1:\n",
    "            return 2*2*3**(y-1)\n",
    "        if x==2:\n",
    "            return 2*3**y\n",
    "print(cutRope(4))"
   ]
  },
  {
   "cell_type": "code",
   "execution_count": 2,
   "metadata": {},
   "outputs": [
    {
     "name": "stdout",
     "output_type": "stream",
     "text": [
      "2 3\n",
      "14\n",
      "100 15\n",
      "870971042\n",
      "0 0\n"
     ]
    }
   ],
   "source": [
    "while True:\n",
    "    try:\n",
    "        N, L = list(map(int, input().split()))\n",
    "        if N==0 and L==0:\n",
    "            break\n",
    "        else:\n",
    "            res = int((N-N**(L+1))/(1-N))\n",
    "            print(res%1000000007)\n",
    "    except:\n",
    "        break"
   ]
  }
 ],
 "metadata": {
  "kernelspec": {
   "display_name": "Python 3",
   "language": "python",
   "name": "python3"
  },
  "language_info": {
   "codemirror_mode": {
    "name": "ipython",
    "version": 3
   },
   "file_extension": ".py",
   "mimetype": "text/x-python",
   "name": "python",
   "nbconvert_exporter": "python",
   "pygments_lexer": "ipython3",
   "version": "3.7.4"
  }
 },
 "nbformat": 4,
 "nbformat_minor": 2
}
